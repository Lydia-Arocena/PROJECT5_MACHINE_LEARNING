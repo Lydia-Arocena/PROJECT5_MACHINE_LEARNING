{
 "cells": [
  {
   "cell_type": "code",
   "execution_count": 194,
   "id": "80a30751",
   "metadata": {},
   "outputs": [],
   "source": [
    "import pandas as pd\n",
    "import numpy as np\n",
    "from sklearn import metrics\n",
    "\n",
    "from sklearn.linear_model import Ridge, Lasso\n",
    "from sklearn.linear_model import SGDRegressor\n",
    "from sklearn.neighbors import KNeighborsRegressor\n",
    "from sklearn.ensemble import GradientBoostingRegressor\n",
    "from sklearn.linear_model import ElasticNet\n",
    "from sklearn.svm import LinearSVR\n",
    "from sklearn.linear_model import LinearRegression\n",
    "from sklearn.ensemble import RandomForestRegressor\n",
    "from sklearn.tree import DecisionTreeRegressor\n",
    "\n",
    "from sklearn.model_selection import GridSearchCV\n",
    "\n",
    "import warnings\n",
    "warnings.filterwarnings(\"ignore\")"
   ]
  },
  {
   "cell_type": "markdown",
   "id": "fa78d261",
   "metadata": {},
   "source": [
    "### Defino X,y:"
   ]
  },
  {
   "cell_type": "code",
   "execution_count": 51,
   "id": "b3e8ce4e",
   "metadata": {},
   "outputs": [],
   "source": [
    "train2=pd.read_csv(\"../data/train2.csv\")"
   ]
  },
  {
   "cell_type": "code",
   "execution_count": 52,
   "id": "7b0f9fbd",
   "metadata": {},
   "outputs": [
    {
     "data": {
      "text/html": [
       "<div>\n",
       "<style scoped>\n",
       "    .dataframe tbody tr th:only-of-type {\n",
       "        vertical-align: middle;\n",
       "    }\n",
       "\n",
       "    .dataframe tbody tr th {\n",
       "        vertical-align: top;\n",
       "    }\n",
       "\n",
       "    .dataframe thead th {\n",
       "        text-align: right;\n",
       "    }\n",
       "</style>\n",
       "<table border=\"1\" class=\"dataframe\">\n",
       "  <thead>\n",
       "    <tr style=\"text-align: right;\">\n",
       "      <th></th>\n",
       "      <th>Unnamed: 0</th>\n",
       "      <th>id</th>\n",
       "      <th>carat</th>\n",
       "      <th>depth</th>\n",
       "      <th>table</th>\n",
       "      <th>price</th>\n",
       "      <th>cut_num</th>\n",
       "      <th>color_num</th>\n",
       "      <th>clarity_num</th>\n",
       "    </tr>\n",
       "  </thead>\n",
       "  <tbody>\n",
       "    <tr>\n",
       "      <th>15307</th>\n",
       "      <td>15307</td>\n",
       "      <td>15307</td>\n",
       "      <td>0.5</td>\n",
       "      <td>59.3</td>\n",
       "      <td>59.0</td>\n",
       "      <td>1410</td>\n",
       "      <td>5</td>\n",
       "      <td>6</td>\n",
       "      <td>6</td>\n",
       "    </tr>\n",
       "  </tbody>\n",
       "</table>\n",
       "</div>"
      ],
      "text/plain": [
       "       Unnamed: 0     id  carat  depth  table  price  cut_num  color_num  \\\n",
       "15307       15307  15307    0.5   59.3   59.0   1410        5          6   \n",
       "\n",
       "       clarity_num  \n",
       "15307            6  "
      ]
     },
     "execution_count": 52,
     "metadata": {},
     "output_type": "execute_result"
    }
   ],
   "source": [
    "train2.sample()"
   ]
  },
  {
   "cell_type": "code",
   "execution_count": 53,
   "id": "19f50b41",
   "metadata": {},
   "outputs": [],
   "source": [
    "X=train2.drop(columns=[\"id\",\"price\",\"Unnamed: 0\"])"
   ]
  },
  {
   "cell_type": "code",
   "execution_count": 54,
   "id": "652968fb",
   "metadata": {},
   "outputs": [],
   "source": [
    "y=train2.price"
   ]
  },
  {
   "cell_type": "markdown",
   "id": "e0e27903",
   "metadata": {},
   "source": [
    "### Train, test, split:"
   ]
  },
  {
   "cell_type": "code",
   "execution_count": 55,
   "id": "55574285",
   "metadata": {},
   "outputs": [],
   "source": [
    "from sklearn.model_selection import train_test_split"
   ]
  },
  {
   "cell_type": "code",
   "execution_count": 56,
   "id": "815857e8",
   "metadata": {},
   "outputs": [],
   "source": [
    "X_train, X_test, y_train, y_test = train_test_split(X, y, test_size=0.2)"
   ]
  },
  {
   "cell_type": "code",
   "execution_count": 57,
   "id": "55f65a73",
   "metadata": {},
   "outputs": [
    {
     "data": {
      "text/plain": [
       "(32364, 6)"
      ]
     },
     "execution_count": 57,
     "metadata": {},
     "output_type": "execute_result"
    }
   ],
   "source": [
    "X_train.shape"
   ]
  },
  {
   "cell_type": "code",
   "execution_count": 58,
   "id": "f9701787",
   "metadata": {},
   "outputs": [
    {
     "data": {
      "text/plain": [
       "(8091, 6)"
      ]
     },
     "execution_count": 58,
     "metadata": {},
     "output_type": "execute_result"
    }
   ],
   "source": [
    "X_test.shape"
   ]
  },
  {
   "cell_type": "code",
   "execution_count": 59,
   "id": "b22ea9e3",
   "metadata": {},
   "outputs": [
    {
     "data": {
      "text/plain": [
       "(32364,)"
      ]
     },
     "execution_count": 59,
     "metadata": {},
     "output_type": "execute_result"
    }
   ],
   "source": [
    "y_train.shape"
   ]
  },
  {
   "cell_type": "code",
   "execution_count": 60,
   "id": "80fd59e6",
   "metadata": {},
   "outputs": [
    {
     "data": {
      "text/plain": [
       "(8091,)"
      ]
     },
     "execution_count": 60,
     "metadata": {},
     "output_type": "execute_result"
    }
   ],
   "source": [
    "y_test.shape"
   ]
  },
  {
   "cell_type": "markdown",
   "id": "333236a3",
   "metadata": {},
   "source": [
    "### GridSearchCV de sklearn - Modelos de Regresión (variables cuantitativas)."
   ]
  },
  {
   "cell_type": "code",
   "execution_count": 188,
   "id": "81dda253",
   "metadata": {},
   "outputs": [],
   "source": [
    "models={'lin':LinearRegression(),\n",
    "    'ridge': Ridge(),\n",
    "    'lasso': Lasso(),\n",
    "    'sgd': SGDRegressor(),\n",
    "    'knn': KNeighborsRegressor(),\n",
    "    'grad': GradientBoostingRegressor(),\n",
    "    'elas': ElasticNet(),\n",
    "    'svr' :LinearSVR(),\n",
    "    'tree': DecisionTreeRegressor(),\n",
    "    'random': RandomForestRegressor()\n",
    "        }"
   ]
  },
  {
   "cell_type": "code",
   "execution_count": 212,
   "id": "1a9eaeaf",
   "metadata": {},
   "outputs": [
    {
     "data": {
      "text/plain": [
       "Ridge()"
      ]
     },
     "execution_count": 212,
     "metadata": {},
     "output_type": "execute_result"
    }
   ],
   "source": [
    "models[\"ridge\"]"
   ]
  },
  {
   "cell_type": "code",
   "execution_count": 131,
   "id": "069fb9f0",
   "metadata": {},
   "outputs": [],
   "source": [
    "parameters_lin={'copy_X': [True,False],\n",
    "                'fit_intercept': [True,False],\n",
    "                'n_jobs': [-2,-1,1,2,None],  \n",
    "                'positive': [True,False]\n",
    "               }"
   ]
  },
  {
   "cell_type": "code",
   "execution_count": 133,
   "id": "13bdacd1",
   "metadata": {},
   "outputs": [],
   "source": [
    "parameters_ridge={'alpha': [1.0,2.0,3.0,4.0], \n",
    "                 'copy_X': [True,False], \n",
    "                 'fit_intercept': [True,False], \n",
    "                 'max_iter': [1000, 15000, None],  \n",
    "                 'positive': [True,False], \n",
    "                 'random_state':[1,2,3,4,5,None] , \n",
    "                 'solver': ['auto', 'svd', 'cholesky', 'lsqr', 'sparse_cg'], \n",
    "                 'tol': [0.001,0.002,0.003]\n",
    "                 }"
   ]
  },
  {
   "cell_type": "code",
   "execution_count": 134,
   "id": "b7710d63",
   "metadata": {},
   "outputs": [],
   "source": [
    "parameters_lasso={'alpha': [0.0,1.0], \n",
    "                  'copy_X': [True,False], \n",
    "                  'fit_intercept': [True,False], \n",
    "                  'max_iter': [500,1000,1500],  \n",
    "                  'positive': [True,False], \n",
    "                  'precompute': [True,False], \n",
    "                  'random_state': [True,False], \n",
    "                  'selection': ['cyclic','random'], \n",
    "                  'tol': [0.0001, 0.0002],\n",
    "                  'warm_start': [True,False]\n",
    "                 }"
   ]
  },
  {
   "cell_type": "code",
   "execution_count": 137,
   "id": "ea23b9af",
   "metadata": {},
   "outputs": [],
   "source": [
    "parameters_sgd={'alpha': [0.0001,0.001,0.01], \n",
    "                'average': [True,False], \n",
    "                'early_stopping': [True,False], \n",
    "                'epsilon': [0.1,0.2,0.3], \n",
    "                'eta0': [0.1,0.2,0.3], \n",
    "                'fit_intercept': [True,False], \n",
    "                'l1_ratio': [0,0.15,0.5,0.75,1.0], \n",
    "                'learning_rate': ['invscaling','adaptive','constant','constant'], \n",
    "                'loss': ['squared_error', 'huber', 'epsilon_insensitive', 'squared_epsilon_insensitive'],\n",
    "                'max_iter': [500,1000,2000], \n",
    "                'n_iter_no_change': [2,5,10], \n",
    "                'penalty': ['l2','l1', 'elasticnet'], \n",
    "                'power_t': [0.25, 0.5],  \n",
    "                'shuffle': [True,False], \n",
    "                'tol': [0.001, None], \n",
    "                'validation_fraction': [0.0,0.1,0.5,0.75,1.0], \n",
    "                'verbose': [0,1,2], \n",
    "                'warm_start': [True,False]\n",
    "               }"
   ]
  },
  {
   "cell_type": "code",
   "execution_count": 138,
   "id": "140bf978",
   "metadata": {},
   "outputs": [],
   "source": [
    "parameters_knn={'algorithm': ['auto','ball_tree', 'kd_tree', 'brute'], \n",
    "                'leaf_size': [20,30,40], \n",
    "                'metric': ['minkowski',\"precomputed\"],  \n",
    "                'n_jobs': [-1,None], \n",
    "                'n_neighbors':[1,2,3,4,5,6,7,8,9], \n",
    "                'p': [1,2], \n",
    "                'weights': ['uniform','distance']\n",
    "               }"
   ]
  },
  {
   "cell_type": "code",
   "execution_count": 140,
   "id": "f3e0f530",
   "metadata": {},
   "outputs": [],
   "source": [
    "parameters_grad={'alpha': [0.1, 0.5, 0.9], \n",
    "                 'ccp_alpha': [0.0,0.1, 0.5, 0.9], \n",
    "                 'criterion': ['friedman_mse', 'squared_error', 'mse', 'mae'],  \n",
    "                 'learning_rate': [0.1, 0.5], \n",
    "                 'loss': ['squared_error', 'absolute_error', 'huber', 'quantile'], \n",
    "                 'max_depth': [1,2,3,4,5], \n",
    "                 'max_features': ['auto', 'sqrt', 'log2',None], \n",
    "                 'max_leaf_nodes':[50,100,200, None], \n",
    "                 'min_impurity_decrease': [0.0,0.1,0.5,1.0], \n",
    "                 'min_samples_leaf': [1,2,3,4,5], \n",
    "                 'min_samples_split': [1,2,3,4,5], \n",
    "                 'min_weight_fraction_leaf': [0.0, 0.5],\n",
    "                 'n_estimators': [100, 200,300, 500], \n",
    "                 'n_iter_no_change': [2,5,10,None],  \n",
    "                 'subsample': [0.1,0.5,1.0], \n",
    "                 'tol': [0.0001, 0.0002, 0.0003, 0.0004, 0.0005],\n",
    "                 'validation_fraction': [0.0,0.1,0.5, 0.75,1.0], \n",
    "                 'verbose': [0,1,2],\n",
    "                 'warm_start': [True,False]}"
   ]
  },
  {
   "cell_type": "code",
   "execution_count": 141,
   "id": "8d79d43f",
   "metadata": {},
   "outputs": [],
   "source": [
    "parameter_elast = {'alpha': [1.0, 2.0, 3.0, 4.0, 5.0], \n",
    "                   'copy_X': [True, False],\n",
    "                   'fit_intercept': [True, False],\n",
    "                   'l1_ratio': [0.1, 0.5, 1.0], \n",
    "                   'max_iter': [1000, 2000, 3000, 4000, 5000], \n",
    "                   'positive': [True, False],\n",
    "                   'precompute': [True, False],\n",
    "                   'selection': ['cyclic', 'random'], \n",
    "                   'tol': [0.0001, 0.0002, 0.0003, 0.0004, 0.0005],\n",
    "                   'warm_start': [True, False],\n",
    "                  }"
   ]
  },
  {
   "cell_type": "code",
   "execution_count": 142,
   "id": "ed7662ca",
   "metadata": {},
   "outputs": [],
   "source": [
    "parameters_svr = {'C': [1.0, 2.0, 3.0, 4.0, 5.0], \n",
    "                  'dual': [True, False], \n",
    "                  'epsilon': [0.0, 1.0, 2.0, 3.0, 4.0, 5.0],\n",
    "                  'fit_intercept': [True, False], \n",
    "                  'intercept_scaling': [1.0, 2.0, 3.0, 4.0, 5.0],\n",
    "                  'loss': ['epsilon_insensitive', 'squared_epsilon_insensitive'], \n",
    "                  'max_iter': [1000, 2000, 3000, 4000, 5000], \n",
    "                  'tol': [0.0001, 0.0002, 0.0003, 0.0004, 0.0005],\n",
    "                  'verbose': [0, 1, 2]\n",
    "                 }"
   ]
  },
  {
   "cell_type": "code",
   "execution_count": 204,
   "id": "0af1be55",
   "metadata": {},
   "outputs": [],
   "source": [
    "paremeters_tree = {'ccp_alpha': [0.0, 0.1, 0.2],\n",
    "                   'criterion': [\"squared_error\", \"friedman_mse\", \"absolute_error\", \"poisson\"], \n",
    "                   'max_depth': [0,1,2,3,4,5,None], \n",
    "                   'max_features': [\"auto\", \"sqrt\", \"log2\", None],\n",
    "                   'max_leaf_nodes': [0,1,2,3,4,5,None], \n",
    "                   'min_impurity_decrease': [0.0, 0.1, 0.2],\n",
    "                   'min_samples_leaf': [1,2,3,4,5], \n",
    "                   'min_samples_split': [1,2,3,4,5],\n",
    "                   'min_weight_fraction_leaf': [0.0, 0.1, 0.2],\n",
    "                   'splitter': ['best', 'random']\n",
    "                  }"
   ]
  },
  {
   "cell_type": "code",
   "execution_count": 205,
   "id": "cd8310c5",
   "metadata": {},
   "outputs": [],
   "source": [
    "parameters_rand = {'bootstrap': [True, False],\n",
    "                   'max_depth': [10, 20, 30, 40, 50, 60, 70, 80, 90, 100, None],\n",
    "                   'max_features': ['auto', 'sqrt'],\n",
    "                   'min_samples_leaf': [1, 2, 4],\n",
    "                    'min_samples_split': [2, 5, 10],\n",
    "                    'n_estimators': [200, 400, 600, 800, 1000, 1200, 1400, 1600, 1800, 2000]\n",
    "                  }"
   ]
  },
  {
   "cell_type": "code",
   "execution_count": 206,
   "id": "8937f58d",
   "metadata": {},
   "outputs": [],
   "source": [
    "dicc_parametros={\"parameters_lin\":parameters_lin,\"parameters_ridge\":parameters_ridge,\"parameters_lasso\":parameters_lasso,\"parameters_sgd\": parameters_sgd,\"parameters_knn\":parameters_knn,\"parameters_grad\":parameters_grad,\"parameter_elast\":parameter_elast,\"parameters_svr\":parameters_svr,\"paremeters_tree\":paremeters_tree,\"parameters_rand\":parameters_rand}"
   ]
  },
  {
   "cell_type": "code",
   "execution_count": 222,
   "id": "1986991d",
   "metadata": {},
   "outputs": [],
   "source": [
    "#for name,model in models.items():\n",
    "   # for k,v in dicc_parametros.items():\n",
    "       # grid = GridSearchCV(models[name], dicc_parametros[k], verbose=1)\n",
    "      "
   ]
  },
  {
   "cell_type": "markdown",
   "id": "2b8d8c14",
   "metadata": {},
   "source": [
    "#### Linear Regression:"
   ]
  },
  {
   "cell_type": "code",
   "execution_count": 190,
   "id": "5e293e44",
   "metadata": {},
   "outputs": [],
   "source": [
    "lin=models[\"lin\"]"
   ]
  },
  {
   "cell_type": "code",
   "execution_count": 223,
   "id": "212ba556",
   "metadata": {},
   "outputs": [],
   "source": [
    "grid_lin = GridSearchCV(models[\"lin\"], dicc_parametros['parameters_lin'], verbose=1)"
   ]
  },
  {
   "cell_type": "code",
   "execution_count": 224,
   "id": "a7335340",
   "metadata": {},
   "outputs": [
    {
     "name": "stdout",
     "output_type": "stream",
     "text": [
      "Fitting 5 folds for each of 40 candidates, totalling 200 fits\n"
     ]
    },
    {
     "data": {
      "text/plain": [
       "GridSearchCV(estimator=LinearRegression(),\n",
       "             param_grid={'copy_X': [True, False],\n",
       "                         'fit_intercept': [True, False],\n",
       "                         'n_jobs': [-2, -1, 1, 2, None],\n",
       "                         'positive': [True, False]},\n",
       "             verbose=1)"
      ]
     },
     "execution_count": 224,
     "metadata": {},
     "output_type": "execute_result"
    }
   ],
   "source": [
    "grid_lin.fit(X_train,y_train)"
   ]
  },
  {
   "cell_type": "code",
   "execution_count": 179,
   "id": "4fabfaef",
   "metadata": {},
   "outputs": [
    {
     "name": "stdout",
     "output_type": "stream",
     "text": [
      "{'copy_X': True, 'fit_intercept': True, 'n_jobs': -2, 'positive': False}\n"
     ]
    }
   ],
   "source": [
    "print(grid_lin.best_params_)"
   ]
  },
  {
   "cell_type": "markdown",
   "id": "94d3225b",
   "metadata": {},
   "source": [
    "#### Ridge:"
   ]
  },
  {
   "cell_type": "code",
   "execution_count": 193,
   "id": "6c014d97",
   "metadata": {},
   "outputs": [],
   "source": [
    "ridge=models[\"ridge\"]"
   ]
  },
  {
   "cell_type": "code",
   "execution_count": 181,
   "id": "bb5eba47",
   "metadata": {},
   "outputs": [],
   "source": [
    "grid_ridge = GridSearchCV(ridge, parameters_ridge, verbose=1)"
   ]
  },
  {
   "cell_type": "code",
   "execution_count": 183,
   "id": "36015621",
   "metadata": {
    "scrolled": true
   },
   "outputs": [
    {
     "name": "stdout",
     "output_type": "stream",
     "text": [
      "Fitting 5 folds for each of 8640 candidates, totalling 43200 fits\n"
     ]
    },
    {
     "name": "stderr",
     "output_type": "stream",
     "text": [
      "/home/lydia/anaconda3/envs/ironhack/lib/python3.8/site-packages/sklearn/model_selection/_validation.py:372: FitFailedWarning: \n",
      "17280 fits failed out of a total of 43200.\n",
      "The score on these train-test partitions for these parameters will be set to nan.\n",
      "If these failures are not expected, you can try to debug them by setting error_score='raise'.\n",
      "\n",
      "Below are more details about the failures:\n",
      "--------------------------------------------------------------------------------\n",
      "4320 fits failed with the following error:\n",
      "Traceback (most recent call last):\n",
      "  File \"/home/lydia/anaconda3/envs/ironhack/lib/python3.8/site-packages/sklearn/model_selection/_validation.py\", line 681, in _fit_and_score\n",
      "    estimator.fit(X_train, y_train, **fit_params)\n",
      "  File \"/home/lydia/anaconda3/envs/ironhack/lib/python3.8/site-packages/sklearn/linear_model/_ridge.py\", line 1010, in fit\n",
      "    return super().fit(X, y, sample_weight=sample_weight)\n",
      "  File \"/home/lydia/anaconda3/envs/ironhack/lib/python3.8/site-packages/sklearn/linear_model/_ridge.py\", line 711, in fit\n",
      "    raise ValueError(\n",
      "ValueError: solver='svd' does not support positive fitting. Please set the solver to 'auto' or 'lbfgs', or set `positive=False`\n",
      "\n",
      "--------------------------------------------------------------------------------\n",
      "4320 fits failed with the following error:\n",
      "Traceback (most recent call last):\n",
      "  File \"/home/lydia/anaconda3/envs/ironhack/lib/python3.8/site-packages/sklearn/model_selection/_validation.py\", line 681, in _fit_and_score\n",
      "    estimator.fit(X_train, y_train, **fit_params)\n",
      "  File \"/home/lydia/anaconda3/envs/ironhack/lib/python3.8/site-packages/sklearn/linear_model/_ridge.py\", line 1010, in fit\n",
      "    return super().fit(X, y, sample_weight=sample_weight)\n",
      "  File \"/home/lydia/anaconda3/envs/ironhack/lib/python3.8/site-packages/sklearn/linear_model/_ridge.py\", line 711, in fit\n",
      "    raise ValueError(\n",
      "ValueError: solver='cholesky' does not support positive fitting. Please set the solver to 'auto' or 'lbfgs', or set `positive=False`\n",
      "\n",
      "--------------------------------------------------------------------------------\n",
      "4320 fits failed with the following error:\n",
      "Traceback (most recent call last):\n",
      "  File \"/home/lydia/anaconda3/envs/ironhack/lib/python3.8/site-packages/sklearn/model_selection/_validation.py\", line 681, in _fit_and_score\n",
      "    estimator.fit(X_train, y_train, **fit_params)\n",
      "  File \"/home/lydia/anaconda3/envs/ironhack/lib/python3.8/site-packages/sklearn/linear_model/_ridge.py\", line 1010, in fit\n",
      "    return super().fit(X, y, sample_weight=sample_weight)\n",
      "  File \"/home/lydia/anaconda3/envs/ironhack/lib/python3.8/site-packages/sklearn/linear_model/_ridge.py\", line 711, in fit\n",
      "    raise ValueError(\n",
      "ValueError: solver='lsqr' does not support positive fitting. Please set the solver to 'auto' or 'lbfgs', or set `positive=False`\n",
      "\n",
      "--------------------------------------------------------------------------------\n",
      "4320 fits failed with the following error:\n",
      "Traceback (most recent call last):\n",
      "  File \"/home/lydia/anaconda3/envs/ironhack/lib/python3.8/site-packages/sklearn/model_selection/_validation.py\", line 681, in _fit_and_score\n",
      "    estimator.fit(X_train, y_train, **fit_params)\n",
      "  File \"/home/lydia/anaconda3/envs/ironhack/lib/python3.8/site-packages/sklearn/linear_model/_ridge.py\", line 1010, in fit\n",
      "    return super().fit(X, y, sample_weight=sample_weight)\n",
      "  File \"/home/lydia/anaconda3/envs/ironhack/lib/python3.8/site-packages/sklearn/linear_model/_ridge.py\", line 711, in fit\n",
      "    raise ValueError(\n",
      "ValueError: solver='sparse_cg' does not support positive fitting. Please set the solver to 'auto' or 'lbfgs', or set `positive=False`\n",
      "\n",
      "  warnings.warn(some_fits_failed_message, FitFailedWarning)\n",
      "/home/lydia/anaconda3/envs/ironhack/lib/python3.8/site-packages/sklearn/model_selection/_search.py:969: UserWarning: One or more of the test scores are non-finite: [0.86172061 0.86172061 0.86172061 ... 0.90143301 0.88923633 0.88923633]\n",
      "  warnings.warn(\n"
     ]
    },
    {
     "data": {
      "text/plain": [
       "GridSearchCV(estimator=Ridge(),\n",
       "             param_grid={'alpha': [1.0, 2.0, 3.0, 4.0], 'copy_X': [True, False],\n",
       "                         'fit_intercept': [True, False],\n",
       "                         'max_iter': [1000, 15000, None],\n",
       "                         'positive': [True, False],\n",
       "                         'random_state': [1, 2, 3, 4, 5, None],\n",
       "                         'solver': ['auto', 'svd', 'cholesky', 'lsqr',\n",
       "                                    'sparse_cg'],\n",
       "                         'tol': [0.001, 0.002, 0.003]},\n",
       "             verbose=1)"
      ]
     },
     "execution_count": 183,
     "metadata": {},
     "output_type": "execute_result"
    }
   ],
   "source": [
    "grid_ridge.fit(X_train,y_train)"
   ]
  },
  {
   "cell_type": "code",
   "execution_count": 184,
   "id": "4bbf677b",
   "metadata": {},
   "outputs": [
    {
     "name": "stdout",
     "output_type": "stream",
     "text": [
      "{'alpha': 2.0, 'copy_X': True, 'fit_intercept': True, 'max_iter': 1000, 'positive': False, 'random_state': 1, 'solver': 'auto', 'tol': 0.001}\n"
     ]
    }
   ],
   "source": [
    "print(grid_ridge.best_params_)"
   ]
  },
  {
   "cell_type": "markdown",
   "id": "c25d58c1",
   "metadata": {},
   "source": [
    "#### Lasso:"
   ]
  },
  {
   "cell_type": "code",
   "execution_count": 225,
   "id": "b0309cdd",
   "metadata": {},
   "outputs": [],
   "source": [
    "lasso=models[\"lasso\"]"
   ]
  },
  {
   "cell_type": "code",
   "execution_count": 226,
   "id": "ea4e193d",
   "metadata": {},
   "outputs": [],
   "source": [
    "grid_lasso = GridSearchCV(lasso, parameters_lasso, verbose=1)"
   ]
  },
  {
   "cell_type": "code",
   "execution_count": 227,
   "id": "2e8c2ad2",
   "metadata": {},
   "outputs": [
    {
     "name": "stdout",
     "output_type": "stream",
     "text": [
      "Fitting 5 folds for each of 1536 candidates, totalling 7680 fits\n"
     ]
    },
    {
     "data": {
      "text/plain": [
       "GridSearchCV(estimator=Lasso(),\n",
       "             param_grid={'alpha': [0.0, 1.0], 'copy_X': [True, False],\n",
       "                         'fit_intercept': [True, False],\n",
       "                         'max_iter': [500, 1000, 1500],\n",
       "                         'positive': [True, False], 'precompute': [True, False],\n",
       "                         'random_state': [True, False],\n",
       "                         'selection': ['cyclic', 'random'],\n",
       "                         'tol': [0.0001, 0.0002], 'warm_start': [True, False]},\n",
       "             verbose=1)"
      ]
     },
     "execution_count": 227,
     "metadata": {},
     "output_type": "execute_result"
    }
   ],
   "source": [
    "grid_lasso.fit(X_train,y_train)"
   ]
  },
  {
   "cell_type": "code",
   "execution_count": 228,
   "id": "eb29764a",
   "metadata": {},
   "outputs": [
    {
     "name": "stdout",
     "output_type": "stream",
     "text": [
      "{'alpha': 0.0, 'copy_X': True, 'fit_intercept': True, 'max_iter': 500, 'positive': False, 'precompute': True, 'random_state': True, 'selection': 'cyclic', 'tol': 0.0001, 'warm_start': True}\n"
     ]
    }
   ],
   "source": [
    "print(grid_lasso.best_params_)"
   ]
  },
  {
   "cell_type": "markdown",
   "id": "5dc6cef9",
   "metadata": {},
   "source": [
    "#### sgd:"
   ]
  },
  {
   "cell_type": "code",
   "execution_count": 229,
   "id": "98692e65",
   "metadata": {},
   "outputs": [],
   "source": [
    "sgd=models[\"sgd\"]"
   ]
  },
  {
   "cell_type": "code",
   "execution_count": 231,
   "id": "659c4733",
   "metadata": {},
   "outputs": [],
   "source": [
    "grid_sgd = GridSearchCV(sgd, parameters_sgd, verbose=1)"
   ]
  },
  {
   "cell_type": "code",
   "execution_count": null,
   "id": "178be43a",
   "metadata": {},
   "outputs": [],
   "source": [
    "grid_sgd.fit(X_train,y_train)"
   ]
  },
  {
   "cell_type": "markdown",
   "id": "5e80775e",
   "metadata": {},
   "source": [
    "### Entreno los modelos con sus mejores parámetros:"
   ]
  },
  {
   "cell_type": "code",
   "execution_count": 198,
   "id": "09776201",
   "metadata": {},
   "outputs": [],
   "source": [
    "best={'lin':LinearRegression(copy_X=True, fit_intercept=True, n_jobs= -2, positive= False),\n",
    "    'ridge': Ridge(alpha= 2.0, copy_X= True, fit_intercept= True, max_iter= 1000, positive= False, random_state= 1, solver= 'auto', tol= 0.001),\n",
    "    'lasso': Lasso(alpha= 0.0, copy_X= True, fit_intercept= True, max_iter= 500, positive= False, precompute= True, random_state= True, selection= 'cyclic', tol= 0.0001, warm_start= True),\n",
    "    'sgd': SGDRegressor(),\n",
    "    'knn': KNeighborsRegressor(),\n",
    "    'grad': GradientBoostingRegressor(),\n",
    "    'elas': ElasticNet(),\n",
    "    'svr' :LinearSVR(),\n",
    "    'tree': DecisionTreeRegressor(),\n",
    "    'random': RandomForestRegressor()\n",
    "        }"
   ]
  },
  {
   "cell_type": "code",
   "execution_count": 108,
   "id": "b43fc526",
   "metadata": {
    "scrolled": true
   },
   "outputs": [
    {
     "name": "stdout",
     "output_type": "stream",
     "text": [
      "ENTRENANDO:  lin\n",
      "ENTRENANDO:  ridge\n",
      "ENTRENANDO:  lasso\n",
      "ENTRENANDO:  sgd\n",
      "ENTRENANDO:  knn\n",
      "ENTRENANDO:  grad\n",
      "ENTRENANDO:  elas\n",
      "ENTRENANDO:  svr\n",
      "ENTRENANDO:  tree\n",
      "ENTRENANDO:  random\n"
     ]
    }
   ],
   "source": [
    "for name, model in best.items():\n",
    "    print(\"ENTRENANDO: \", name)\n",
    "    model.fit(X_train, y_train)\n"
   ]
  },
  {
   "cell_type": "code",
   "execution_count": null,
   "id": "61acf039",
   "metadata": {},
   "outputs": [],
   "source": []
  },
  {
   "cell_type": "code",
   "execution_count": null,
   "id": "a6912b1d",
   "metadata": {},
   "outputs": [],
   "source": []
  },
  {
   "cell_type": "code",
   "execution_count": null,
   "id": "ee0fdfe7",
   "metadata": {},
   "outputs": [],
   "source": []
  },
  {
   "cell_type": "code",
   "execution_count": null,
   "id": "dfb76412",
   "metadata": {},
   "outputs": [],
   "source": []
  },
  {
   "cell_type": "code",
   "execution_count": 46,
   "id": "3bd4298f",
   "metadata": {},
   "outputs": [
    {
     "name": "stdout",
     "output_type": "stream",
     "text": [
      "------lin------\n",
      "RMSE -  1194.5209264818127\n",
      "------ridge------\n",
      "RMSE -  1194.5247227816853\n",
      "------lasso------\n",
      "RMSE -  1194.5168622802832\n",
      "------sgd------\n",
      "RMSE -  276344864.6974937\n",
      "------knn------\n",
      "RMSE -  1907.5574307333873\n",
      "------grad------\n",
      "RMSE -  602.309383130032\n",
      "------elas------\n",
      "RMSE -  2915.606909356901\n",
      "------svr------\n",
      "RMSE -  1859.0781715959422\n"
     ]
    }
   ],
   "source": [
    "for name, model in models.items():\n",
    "    y_pred = model.predict(X_test)\n",
    "    print(f\"------{name}------\")\n",
    "    print('RMSE - ', np.sqrt(metrics.mean_squared_error(y_test, y_pred)))"
   ]
  },
  {
   "cell_type": "code",
   "execution_count": null,
   "id": "26c9793b",
   "metadata": {},
   "outputs": [],
   "source": []
  }
 ],
 "metadata": {
  "kernelspec": {
   "display_name": "ironhack",
   "language": "python",
   "name": "ironhack"
  },
  "language_info": {
   "codemirror_mode": {
    "name": "ipython",
    "version": 3
   },
   "file_extension": ".py",
   "mimetype": "text/x-python",
   "name": "python",
   "nbconvert_exporter": "python",
   "pygments_lexer": "ipython3",
   "version": "3.8.5"
  }
 },
 "nbformat": 4,
 "nbformat_minor": 5
}
