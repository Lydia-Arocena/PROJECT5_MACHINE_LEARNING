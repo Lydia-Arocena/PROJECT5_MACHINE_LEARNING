{
 "cells": [
  {
   "cell_type": "code",
   "execution_count": 64,
   "id": "b22becdf",
   "metadata": {},
   "outputs": [],
   "source": [
    "import pandas as pd\n",
    "import numpy as np\n",
    "from sklearn import metrics\n",
    "\n",
    "from sklearn.linear_model import Ridge, Lasso\n",
    "from sklearn.linear_model import SGDRegressor\n",
    "from sklearn.neighbors import KNeighborsRegressor\n",
    "from sklearn.ensemble import GradientBoostingRegressor\n",
    "from sklearn.linear_model import ElasticNet\n",
    "from sklearn.svm import LinearSVR\n",
    "from sklearn.linear_model import LinearRegression\n",
    "from sklearn.ensemble import RandomForestRegressor\n",
    "from sklearn.tree import DecisionTreeRegressor\n",
    "\n",
    "from sklearn.model_selection import GridSearchCV"
   ]
  },
  {
   "cell_type": "markdown",
   "id": "415817bd",
   "metadata": {},
   "source": [
    "### Defino X,y:"
   ]
  },
  {
   "cell_type": "code",
   "execution_count": 51,
   "id": "ddf63f88",
   "metadata": {},
   "outputs": [],
   "source": [
    "train2=pd.read_csv(\"../data/train2.csv\")"
   ]
  },
  {
   "cell_type": "code",
   "execution_count": 52,
   "id": "30047b56",
   "metadata": {},
   "outputs": [
    {
     "data": {
      "text/html": [
       "<div>\n",
       "<style scoped>\n",
       "    .dataframe tbody tr th:only-of-type {\n",
       "        vertical-align: middle;\n",
       "    }\n",
       "\n",
       "    .dataframe tbody tr th {\n",
       "        vertical-align: top;\n",
       "    }\n",
       "\n",
       "    .dataframe thead th {\n",
       "        text-align: right;\n",
       "    }\n",
       "</style>\n",
       "<table border=\"1\" class=\"dataframe\">\n",
       "  <thead>\n",
       "    <tr style=\"text-align: right;\">\n",
       "      <th></th>\n",
       "      <th>Unnamed: 0</th>\n",
       "      <th>id</th>\n",
       "      <th>carat</th>\n",
       "      <th>depth</th>\n",
       "      <th>table</th>\n",
       "      <th>price</th>\n",
       "      <th>cut_num</th>\n",
       "      <th>color_num</th>\n",
       "      <th>clarity_num</th>\n",
       "    </tr>\n",
       "  </thead>\n",
       "  <tbody>\n",
       "    <tr>\n",
       "      <th>15307</th>\n",
       "      <td>15307</td>\n",
       "      <td>15307</td>\n",
       "      <td>0.5</td>\n",
       "      <td>59.3</td>\n",
       "      <td>59.0</td>\n",
       "      <td>1410</td>\n",
       "      <td>5</td>\n",
       "      <td>6</td>\n",
       "      <td>6</td>\n",
       "    </tr>\n",
       "  </tbody>\n",
       "</table>\n",
       "</div>"
      ],
      "text/plain": [
       "       Unnamed: 0     id  carat  depth  table  price  cut_num  color_num  \\\n",
       "15307       15307  15307    0.5   59.3   59.0   1410        5          6   \n",
       "\n",
       "       clarity_num  \n",
       "15307            6  "
      ]
     },
     "execution_count": 52,
     "metadata": {},
     "output_type": "execute_result"
    }
   ],
   "source": [
    "train2.sample()"
   ]
  },
  {
   "cell_type": "code",
   "execution_count": 53,
   "id": "b03063b9",
   "metadata": {},
   "outputs": [],
   "source": [
    "X=train2.drop(columns=[\"id\",\"price\",\"Unnamed: 0\"])"
   ]
  },
  {
   "cell_type": "code",
   "execution_count": 54,
   "id": "b899049a",
   "metadata": {},
   "outputs": [],
   "source": [
    "y=train2.price"
   ]
  },
  {
   "cell_type": "markdown",
   "id": "e9e9fc90",
   "metadata": {},
   "source": [
    "### Train, test, split:"
   ]
  },
  {
   "cell_type": "code",
   "execution_count": 55,
   "id": "a3b80b96",
   "metadata": {},
   "outputs": [],
   "source": [
    "from sklearn.model_selection import train_test_split"
   ]
  },
  {
   "cell_type": "code",
   "execution_count": 56,
   "id": "ae5ffbee",
   "metadata": {},
   "outputs": [],
   "source": [
    "X_train, X_test, y_train, y_test = train_test_split(X, y, test_size=0.2)"
   ]
  },
  {
   "cell_type": "code",
   "execution_count": 57,
   "id": "4ff8a811",
   "metadata": {},
   "outputs": [
    {
     "data": {
      "text/plain": [
       "(32364, 6)"
      ]
     },
     "execution_count": 57,
     "metadata": {},
     "output_type": "execute_result"
    }
   ],
   "source": [
    "X_train.shape"
   ]
  },
  {
   "cell_type": "code",
   "execution_count": 58,
   "id": "9426772f",
   "metadata": {},
   "outputs": [
    {
     "data": {
      "text/plain": [
       "(8091, 6)"
      ]
     },
     "execution_count": 58,
     "metadata": {},
     "output_type": "execute_result"
    }
   ],
   "source": [
    "X_test.shape"
   ]
  },
  {
   "cell_type": "code",
   "execution_count": 59,
   "id": "23236810",
   "metadata": {},
   "outputs": [
    {
     "data": {
      "text/plain": [
       "(32364,)"
      ]
     },
     "execution_count": 59,
     "metadata": {},
     "output_type": "execute_result"
    }
   ],
   "source": [
    "y_train.shape"
   ]
  },
  {
   "cell_type": "code",
   "execution_count": 60,
   "id": "06e24d29",
   "metadata": {},
   "outputs": [
    {
     "data": {
      "text/plain": [
       "(8091,)"
      ]
     },
     "execution_count": 60,
     "metadata": {},
     "output_type": "execute_result"
    }
   ],
   "source": [
    "y_test.shape"
   ]
  },
  {
   "cell_type": "markdown",
   "id": "6d183450",
   "metadata": {},
   "source": [
    "### Entrenamos varios Modelos de Regresión (variables cuantitativas)."
   ]
  },
  {
   "cell_type": "code",
   "execution_count": 86,
   "id": "b8ebdd3e",
   "metadata": {},
   "outputs": [],
   "source": [
    "models={'lin':LinearRegression(),\n",
    "    'ridge': Ridge(),\n",
    "    'lasso': Lasso(),\n",
    "    'sgd': SGDRegressor(),\n",
    "    'knn': KNeighborsRegressor(),\n",
    "    'grad': GradientBoostingRegressor(),\n",
    "    'elas': ElasticNet(),\n",
    "    'svr' :LinearSVR(),\n",
    "    'tree': DecisionTreeRegressor(),\n",
    "    'random': RandomForestRegressor()\n",
    "        }"
   ]
  },
  {
   "cell_type": "code",
   "execution_count": null,
   "id": "21e8faa3",
   "metadata": {},
   "outputs": [],
   "source": []
  },
  {
   "cell_type": "code",
   "execution_count": 166,
   "id": "b83d0611",
   "metadata": {},
   "outputs": [],
   "source": [
    "lista_modelos=[]\n",
    "for name, model in models.items():\n",
    "    lista_modelos.append(model)\n",
    "   "
   ]
  },
  {
   "cell_type": "code",
   "execution_count": 167,
   "id": "2338bc2d",
   "metadata": {},
   "outputs": [
    {
     "data": {
      "text/plain": [
       "[LinearRegression(),\n",
       " Ridge(),\n",
       " Lasso(),\n",
       " SGDRegressor(),\n",
       " KNeighborsRegressor(),\n",
       " GradientBoostingRegressor(),\n",
       " ElasticNet(),\n",
       " LinearSVR(),\n",
       " DecisionTreeRegressor(),\n",
       " RandomForestRegressor()]"
      ]
     },
     "execution_count": 167,
     "metadata": {},
     "output_type": "execute_result"
    }
   ],
   "source": [
    "lista_modelos"
   ]
  },
  {
   "cell_type": "code",
   "execution_count": 131,
   "id": "1ad664a4",
   "metadata": {},
   "outputs": [],
   "source": [
    "parameters_lin={'copy_X': [True,False],\n",
    "                'fit_intercept': [True,False],\n",
    "                'n_jobs': [-2,-1,1,2,None],  \n",
    "                'positive': [True,False]\n",
    "               }"
   ]
  },
  {
   "cell_type": "code",
   "execution_count": 133,
   "id": "ddfe6296",
   "metadata": {},
   "outputs": [],
   "source": [
    "parameters_ridge={'alpha': [1.0,2.0,3.0,4.0], \n",
    "                 'copy_X': [True,False], \n",
    "                 'fit_intercept': [True,False], \n",
    "                 'max_iter': [1000, 15000, None],  \n",
    "                 'positive': [True,False], \n",
    "                 'random_state':[1,2,3,4,5,None] , \n",
    "                 'solver': ['auto', 'svd', 'cholesky', 'lsqr', 'sparse_cg'], \n",
    "                 'tol': [0.001,0.002,0.003]\n",
    "                 }"
   ]
  },
  {
   "cell_type": "code",
   "execution_count": 134,
   "id": "46388403",
   "metadata": {},
   "outputs": [],
   "source": [
    "parameters_lasso={'alpha': [0.0,1.0], \n",
    "                  'copy_X': [True,False], \n",
    "                  'fit_intercept': [True,False], \n",
    "                  'max_iter': [500,1000,1500],  \n",
    "                  'positive': [True,False], \n",
    "                  'precompute': [True,False], \n",
    "                  'random_state': [True,False], \n",
    "                  'selection': ['cyclic','random'], \n",
    "                  'tol': [0.0001, 0.0002],\n",
    "                  'warm_start': [True,False]\n",
    "                 }"
   ]
  },
  {
   "cell_type": "code",
   "execution_count": 137,
   "id": "1120c96c",
   "metadata": {},
   "outputs": [],
   "source": [
    "parameters_sgd={'alpha': [0.0001,0.001,0.01], \n",
    "                'average': [True,False], \n",
    "                'early_stopping': [True,False], \n",
    "                'epsilon': [0.1,0.2,0.3], \n",
    "                'eta0': [0.1,0.2,0.3], \n",
    "                'fit_intercept': [True,False], \n",
    "                'l1_ratio': [0,0.15,0.5,0.75,1.0], \n",
    "                'learning_rate': ['invscaling','adaptive','constant','constant'], \n",
    "                'loss': ['squared_error', 'huber', 'epsilon_insensitive', 'squared_epsilon_insensitive'],\n",
    "                'max_iter': [500,1000,2000], \n",
    "                'n_iter_no_change': [2,5,10], \n",
    "                'penalty': ['l2','l1', 'elasticnet'], \n",
    "                'power_t': [0.25, 0.5],  \n",
    "                'shuffle': [True,False], \n",
    "                'tol': [0.001, None], \n",
    "                'validation_fraction': [0.0,0.1,0.5,0.75,1.0], \n",
    "                'verbose': [0,1,2], \n",
    "                'warm_start': [True,False]\n",
    "               }"
   ]
  },
  {
   "cell_type": "code",
   "execution_count": 138,
   "id": "1db751ae",
   "metadata": {},
   "outputs": [],
   "source": [
    "parameters_knn={'algorithm': ['auto','ball_tree', 'kd_tree', 'brute'], \n",
    "                'leaf_size': [20,30,40], \n",
    "                'metric': ['minkowski',\"precomputed\"],  \n",
    "                'n_jobs': [-1,None], \n",
    "                'n_neighbors':[1,2,3,4,5,6,7,8,9], \n",
    "                'p': [1,2], \n",
    "                'weights': ['uniform','distance']\n",
    "               }"
   ]
  },
  {
   "cell_type": "code",
   "execution_count": 140,
   "id": "7116859d",
   "metadata": {},
   "outputs": [],
   "source": [
    "parameters_grad={'alpha': [0.1, 0.5, 0.9], \n",
    "                 'ccp_alpha': [0.0,0.1, 0.5, 0.9], \n",
    "                 'criterion': ['friedman_mse', 'squared_error', 'mse', 'mae'],  \n",
    "                 'learning_rate': [0.1, 0.5], \n",
    "                 'loss': ['squared_error', 'absolute_error', 'huber', 'quantile'], \n",
    "                 'max_depth': [1,2,3,4,5], \n",
    "                 'max_features': ['auto', 'sqrt', 'log2',None], \n",
    "                 'max_leaf_nodes':[50,100,200, None], \n",
    "                 'min_impurity_decrease': [0.0,0.1,0.5,1.0], \n",
    "                 'min_samples_leaf': [1,2,3,4,5], \n",
    "                 'min_samples_split': [1,2,3,4,5], \n",
    "                 'min_weight_fraction_leaf': [0.0, 0.5],\n",
    "                 'n_estimators': [100, 200,300, 500], \n",
    "                 'n_iter_no_change': [2,5,10,None],  \n",
    "                 'subsample': [0.1,0.5,1.0], \n",
    "                 'tol': [0.0001, 0.0002, 0.0003, 0.0004, 0.0005],\n",
    "                 'validation_fraction': [0.0,0.1,0.5, 0.75,1.0], \n",
    "                 'verbose': [0,1,2],\n",
    "                 'warm_start': [True,False]}"
   ]
  },
  {
   "cell_type": "code",
   "execution_count": 141,
   "id": "883a96d6",
   "metadata": {},
   "outputs": [],
   "source": [
    "parameter_elast = {'alpha': [1.0, 2.0, 3.0, 4.0, 5.0], \n",
    "                   'copy_X': [True, False],\n",
    "                   'fit_intercept': [True, False],\n",
    "                   'l1_ratio': [0.1, 0.5, 1.0], \n",
    "                   'max_iter': [1000, 2000, 3000, 4000, 5000], \n",
    "                   'positive': [True, False],\n",
    "                   'precompute': [True, False],\n",
    "                   'selection': ['cyclic', 'random'], \n",
    "                   'tol': [0.0001, 0.0002, 0.0003, 0.0004, 0.0005],\n",
    "                   'warm_start': [True, False],\n",
    "                  }"
   ]
  },
  {
   "cell_type": "code",
   "execution_count": 142,
   "id": "5f92bda2",
   "metadata": {},
   "outputs": [],
   "source": [
    "parameters_svr = {'C': [1.0, 2.0, 3.0, 4.0, 5.0], \n",
    "                  'dual': [True, False], \n",
    "                  'epsilon': [0.0, 1.0, 2.0, 3.0, 4.0, 5.0],\n",
    "                  'fit_intercept': [True, False], \n",
    "                  'intercept_scaling': [1.0, 2.0, 3.0, 4.0, 5.0],\n",
    "                  'loss': ['epsilon_insensitive', 'squared_epsilon_insensitive'], \n",
    "                  'max_iter': [1000, 2000, 3000, 4000, 5000], \n",
    "                  'tol': [0.0001, 0.0002, 0.0003, 0.0004, 0.0005],\n",
    "                  'verbose': [0, 1, 2]\n",
    "                 }"
   ]
  },
  {
   "cell_type": "code",
   "execution_count": 143,
   "id": "633c9308",
   "metadata": {},
   "outputs": [],
   "source": [
    "paremeters_tree = {'ccp_alpha': [0.0, 0.1, 0.2],\n",
    "                   'criterion': 'squared_error', \n",
    "                   'max_depth': [0,1,2,3,4,5,None], \n",
    "                   'max_features': [\"auto\", \"sqrt\", \"log2\", None],\n",
    "                   'max_leaf_nodes': [0,1,2,3,4,5,None], \n",
    "                   'min_impurity_decrease': [0.0, 0.1, 0.2],\n",
    "                   'min_samples_leaf': [1,2,3,4,5], \n",
    "                   'min_samples_split': [1,2,3,4,5],\n",
    "                   'min_weight_fraction_leaf': [0.0, 0.1, 0.2],\n",
    "                   'splitter': ['best', 'random']\n",
    "                  }"
   ]
  },
  {
   "cell_type": "code",
   "execution_count": 129,
   "id": "7a5203dd",
   "metadata": {},
   "outputs": [],
   "source": [
    "parameters_rand = {'bootstrap': [True, False],\n",
    "                   'max_depth': [10, 20, 30, 40, 50, 60, 70, 80, 90, 100, None],\n",
    "                   'max_features': ['auto', 'sqrt'],\n",
    "                   'min_samples_leaf': [1, 2, 4],\n",
    "                    'min_samples_split': [2, 5, 10],\n",
    "                    'n_estimators': [200, 400, 600, 800, 1000, 1200, 1400, 1600, 1800, 2000]\n",
    "                  }"
   ]
  },
  {
   "cell_type": "code",
   "execution_count": 146,
   "id": "f1cc1ca8",
   "metadata": {},
   "outputs": [],
   "source": [
    "dicc_parametros={\"parameters_lin\":parameters_lin,\"parameters_ridge\":parameters_ridge,\"parameters_lasso\":parameters_lasso,\"parameters_sgd\": parameters_sgd,\"parameters_knn\":parameters_knn,\"parameters_grad\":parameters_grad,\"parameter_elast\":parameter_elast,\"parameters_svr\":parameters_svr,\"paremeters_tree\":paremeters_tree,\"parameters_rand\":parameters_rand}"
   ]
  },
  {
   "cell_type": "code",
   "execution_count": 151,
   "id": "4443a3bb",
   "metadata": {},
   "outputs": [],
   "source": [
    "grid = GridSearchCV(lin, parameters_lin, verbose=1)"
   ]
  },
  {
   "cell_type": "code",
   "execution_count": 152,
   "id": "9869a3fb",
   "metadata": {},
   "outputs": [
    {
     "name": "stdout",
     "output_type": "stream",
     "text": [
      "GridSearchCV(estimator=LinearRegression(),\n",
      "             param_grid={'copy_X': [True, False],\n",
      "                         'fit_intercept': [True, False],\n",
      "                         'n_jobs': [-2, -1, 1, 2, None],\n",
      "                         'positive': [True, False]},\n",
      "             verbose=1)\n"
     ]
    }
   ],
   "source": [
    "print(grid)"
   ]
  },
  {
   "cell_type": "code",
   "execution_count": 153,
   "id": "043eb073",
   "metadata": {},
   "outputs": [
    {
     "name": "stdout",
     "output_type": "stream",
     "text": [
      "Fitting 5 folds for each of 40 candidates, totalling 200 fits\n"
     ]
    },
    {
     "data": {
      "text/plain": [
       "GridSearchCV(estimator=LinearRegression(),\n",
       "             param_grid={'copy_X': [True, False],\n",
       "                         'fit_intercept': [True, False],\n",
       "                         'n_jobs': [-2, -1, 1, 2, None],\n",
       "                         'positive': [True, False]},\n",
       "             verbose=1)"
      ]
     },
     "execution_count": 153,
     "metadata": {},
     "output_type": "execute_result"
    }
   ],
   "source": [
    "grid.fit(X_train,y_train)"
   ]
  },
  {
   "cell_type": "code",
   "execution_count": 155,
   "id": "78ff663d",
   "metadata": {},
   "outputs": [
    {
     "name": "stdout",
     "output_type": "stream",
     "text": [
      "{'copy_X': True, 'fit_intercept': True, 'n_jobs': -2, 'positive': False}\n"
     ]
    }
   ],
   "source": [
    "print(grid.best_params_)"
   ]
  },
  {
   "cell_type": "code",
   "execution_count": 108,
   "id": "51297978",
   "metadata": {},
   "outputs": [
    {
     "name": "stdout",
     "output_type": "stream",
     "text": [
      "ENTRENANDO:  lin\n",
      "ENTRENANDO:  ridge\n",
      "ENTRENANDO:  lasso\n",
      "ENTRENANDO:  sgd\n",
      "ENTRENANDO:  knn\n",
      "ENTRENANDO:  grad\n",
      "ENTRENANDO:  elas\n",
      "ENTRENANDO:  svr\n",
      "ENTRENANDO:  tree\n",
      "ENTRENANDO:  random\n"
     ]
    }
   ],
   "source": [
    "for name, model in models.items():\n",
    "    print(\"ENTRENANDO: \", name)\n",
    "    model.fit(X_train, y_train)\n"
   ]
  },
  {
   "cell_type": "code",
   "execution_count": 100,
   "id": "46d66be0",
   "metadata": {},
   "outputs": [
    {
     "data": {
      "text/plain": [
       "{'copy_X': True,\n",
       " 'fit_intercept': True,\n",
       " 'n_jobs': None,\n",
       " 'normalize': 'deprecated',\n",
       " 'positive': False}"
      ]
     },
     "execution_count": 100,
     "metadata": {},
     "output_type": "execute_result"
    }
   ],
   "source": [
    "lin.get_params(deep=True)"
   ]
  },
  {
   "cell_type": "code",
   "execution_count": 89,
   "id": "d99a4a66",
   "metadata": {},
   "outputs": [
    {
     "name": "stdout",
     "output_type": "stream",
     "text": [
      "{'copy_X': True, 'fit_intercept': True, 'n_jobs': None, 'normalize': 'deprecated', 'positive': False}\n"
     ]
    }
   ],
   "source": [
    "print(parametros)"
   ]
  },
  {
   "cell_type": "code",
   "execution_count": null,
   "id": "dd2348d3",
   "metadata": {},
   "outputs": [],
   "source": [
    "for elemento in lista:\n",
    "    grid = GridSearchCV(elemento, params, verbose=1)"
   ]
  },
  {
   "cell_type": "code",
   "execution_count": null,
   "id": "e7d744df",
   "metadata": {},
   "outputs": [],
   "source": []
  },
  {
   "cell_type": "code",
   "execution_count": null,
   "id": "8cba1a9b",
   "metadata": {},
   "outputs": [],
   "source": []
  },
  {
   "cell_type": "code",
   "execution_count": null,
   "id": "b912058c",
   "metadata": {},
   "outputs": [],
   "source": []
  },
  {
   "cell_type": "code",
   "execution_count": null,
   "id": "56736713",
   "metadata": {},
   "outputs": [],
   "source": []
  },
  {
   "cell_type": "code",
   "execution_count": 46,
   "id": "3800e6c4",
   "metadata": {},
   "outputs": [
    {
     "name": "stdout",
     "output_type": "stream",
     "text": [
      "------lin------\n",
      "RMSE -  1194.5209264818127\n",
      "------ridge------\n",
      "RMSE -  1194.5247227816853\n",
      "------lasso------\n",
      "RMSE -  1194.5168622802832\n",
      "------sgd------\n",
      "RMSE -  276344864.6974937\n",
      "------knn------\n",
      "RMSE -  1907.5574307333873\n",
      "------grad------\n",
      "RMSE -  602.309383130032\n",
      "------elas------\n",
      "RMSE -  2915.606909356901\n",
      "------svr------\n",
      "RMSE -  1859.0781715959422\n"
     ]
    }
   ],
   "source": [
    "for name, model in models.items():\n",
    "    y_pred = model.predict(X_test)\n",
    "    print(f\"------{name}------\")\n",
    "    print('RMSE - ', np.sqrt(metrics.mean_squared_error(y_test, y_pred)))"
   ]
  },
  {
   "cell_type": "code",
   "execution_count": null,
   "id": "4862db0f",
   "metadata": {},
   "outputs": [],
   "source": []
  }
 ],
 "metadata": {
  "kernelspec": {
   "display_name": "ironhack",
   "language": "python",
   "name": "ironhack"
  },
  "language_info": {
   "codemirror_mode": {
    "name": "ipython",
    "version": 3
   },
   "file_extension": ".py",
   "mimetype": "text/x-python",
   "name": "python",
   "nbconvert_exporter": "python",
   "pygments_lexer": "ipython3",
   "version": "3.8.5"
  }
 },
 "nbformat": 4,
 "nbformat_minor": 5
}
