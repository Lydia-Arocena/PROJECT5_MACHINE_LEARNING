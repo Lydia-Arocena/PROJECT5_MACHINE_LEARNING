{
 "cells": [
  {
   "cell_type": "code",
   "execution_count": 1,
   "id": "db1b4dc5",
   "metadata": {},
   "outputs": [],
   "source": [
    "import pandas as pd\n",
    "import numpy as np\n",
    "from sklearn import metrics\n",
    "\n",
    "from sklearn.linear_model import Ridge, Lasso\n",
    "from sklearn.linear_model import SGDRegressor\n",
    "from sklearn.neighbors import KNeighborsRegressor\n",
    "from sklearn.ensemble import GradientBoostingRegressor\n",
    "from sklearn.linear_model import ElasticNet\n",
    "from sklearn.svm import LinearSVR\n",
    "from sklearn.linear_model import LinearRegression\n",
    "from sklearn.ensemble import RandomForestRegressor\n",
    "from sklearn.tree import DecisionTreeRegressor\n",
    "\n",
    "from sklearn.model_selection import GridSearchCV\n",
    "\n",
    "import warnings\n",
    "warnings.filterwarnings(\"ignore\")"
   ]
  },
  {
   "cell_type": "markdown",
   "id": "f7856280",
   "metadata": {},
   "source": [
    "### Defino X,y (TRAIN):"
   ]
  },
  {
   "cell_type": "code",
   "execution_count": 2,
   "id": "07ddf0cf",
   "metadata": {},
   "outputs": [],
   "source": [
    "train2=pd.read_csv(\"../data/train2.csv\")"
   ]
  },
  {
   "cell_type": "code",
   "execution_count": 3,
   "id": "991dcc45",
   "metadata": {},
   "outputs": [
    {
     "data": {
      "text/html": [
       "<div>\n",
       "<style scoped>\n",
       "    .dataframe tbody tr th:only-of-type {\n",
       "        vertical-align: middle;\n",
       "    }\n",
       "\n",
       "    .dataframe tbody tr th {\n",
       "        vertical-align: top;\n",
       "    }\n",
       "\n",
       "    .dataframe thead th {\n",
       "        text-align: right;\n",
       "    }\n",
       "</style>\n",
       "<table border=\"1\" class=\"dataframe\">\n",
       "  <thead>\n",
       "    <tr style=\"text-align: right;\">\n",
       "      <th></th>\n",
       "      <th>Unnamed: 0</th>\n",
       "      <th>id</th>\n",
       "      <th>carat</th>\n",
       "      <th>depth</th>\n",
       "      <th>table</th>\n",
       "      <th>price</th>\n",
       "      <th>cut_num</th>\n",
       "      <th>color_num</th>\n",
       "      <th>clarity_num</th>\n",
       "    </tr>\n",
       "  </thead>\n",
       "  <tbody>\n",
       "    <tr>\n",
       "      <th>25807</th>\n",
       "      <td>25807</td>\n",
       "      <td>25807</td>\n",
       "      <td>2.04</td>\n",
       "      <td>60.9</td>\n",
       "      <td>57.0</td>\n",
       "      <td>14527</td>\n",
       "      <td>3</td>\n",
       "      <td>2</td>\n",
       "      <td>7</td>\n",
       "    </tr>\n",
       "  </tbody>\n",
       "</table>\n",
       "</div>"
      ],
      "text/plain": [
       "       Unnamed: 0     id  carat  depth  table  price  cut_num  color_num  \\\n",
       "25807       25807  25807   2.04   60.9   57.0  14527        3          2   \n",
       "\n",
       "       clarity_num  \n",
       "25807            7  "
      ]
     },
     "execution_count": 3,
     "metadata": {},
     "output_type": "execute_result"
    }
   ],
   "source": [
    "train2.sample()"
   ]
  },
  {
   "cell_type": "code",
   "execution_count": 4,
   "id": "3e8f19a5",
   "metadata": {},
   "outputs": [],
   "source": [
    "X=train2.drop(columns=[\"id\",\"price\",\"Unnamed: 0\"])"
   ]
  },
  {
   "cell_type": "code",
   "execution_count": 5,
   "id": "80ca1732",
   "metadata": {},
   "outputs": [],
   "source": [
    "y=train2.price"
   ]
  },
  {
   "cell_type": "markdown",
   "id": "e56f024c",
   "metadata": {},
   "source": [
    "### Cargo X (TEST):"
   ]
  },
  {
   "cell_type": "code",
   "execution_count": 6,
   "id": "5320f6b8",
   "metadata": {},
   "outputs": [],
   "source": [
    "test2=pd.read_csv(\"../data/test2.csv\")"
   ]
  },
  {
   "cell_type": "code",
   "execution_count": 7,
   "id": "886aaa0e",
   "metadata": {},
   "outputs": [
    {
     "data": {
      "text/html": [
       "<div>\n",
       "<style scoped>\n",
       "    .dataframe tbody tr th:only-of-type {\n",
       "        vertical-align: middle;\n",
       "    }\n",
       "\n",
       "    .dataframe tbody tr th {\n",
       "        vertical-align: top;\n",
       "    }\n",
       "\n",
       "    .dataframe thead th {\n",
       "        text-align: right;\n",
       "    }\n",
       "</style>\n",
       "<table border=\"1\" class=\"dataframe\">\n",
       "  <thead>\n",
       "    <tr style=\"text-align: right;\">\n",
       "      <th></th>\n",
       "      <th>Unnamed: 0</th>\n",
       "      <th>id</th>\n",
       "      <th>carat</th>\n",
       "      <th>depth</th>\n",
       "      <th>table</th>\n",
       "      <th>cut_num</th>\n",
       "      <th>color_num</th>\n",
       "      <th>clarity_num</th>\n",
       "    </tr>\n",
       "  </thead>\n",
       "  <tbody>\n",
       "    <tr>\n",
       "      <th>2471</th>\n",
       "      <td>2471</td>\n",
       "      <td>2471</td>\n",
       "      <td>0.41</td>\n",
       "      <td>61.6</td>\n",
       "      <td>57.0</td>\n",
       "      <td>4</td>\n",
       "      <td>4</td>\n",
       "      <td>4</td>\n",
       "    </tr>\n",
       "  </tbody>\n",
       "</table>\n",
       "</div>"
      ],
      "text/plain": [
       "      Unnamed: 0    id  carat  depth  table  cut_num  color_num  clarity_num\n",
       "2471        2471  2471   0.41   61.6   57.0        4          4            4"
      ]
     },
     "execution_count": 7,
     "metadata": {},
     "output_type": "execute_result"
    }
   ],
   "source": [
    "test2.sample()"
   ]
  },
  {
   "cell_type": "code",
   "execution_count": 8,
   "id": "69577c92",
   "metadata": {},
   "outputs": [],
   "source": [
    "test_=test2.drop(columns=[\"id\",\"Unnamed: 0\"])"
   ]
  },
  {
   "cell_type": "code",
   "execution_count": 9,
   "id": "65d94e18",
   "metadata": {},
   "outputs": [
    {
     "data": {
      "text/html": [
       "<div>\n",
       "<style scoped>\n",
       "    .dataframe tbody tr th:only-of-type {\n",
       "        vertical-align: middle;\n",
       "    }\n",
       "\n",
       "    .dataframe tbody tr th {\n",
       "        vertical-align: top;\n",
       "    }\n",
       "\n",
       "    .dataframe thead th {\n",
       "        text-align: right;\n",
       "    }\n",
       "</style>\n",
       "<table border=\"1\" class=\"dataframe\">\n",
       "  <thead>\n",
       "    <tr style=\"text-align: right;\">\n",
       "      <th></th>\n",
       "      <th>carat</th>\n",
       "      <th>depth</th>\n",
       "      <th>table</th>\n",
       "      <th>cut_num</th>\n",
       "      <th>color_num</th>\n",
       "      <th>clarity_num</th>\n",
       "    </tr>\n",
       "  </thead>\n",
       "  <tbody>\n",
       "    <tr>\n",
       "      <th>4043</th>\n",
       "      <td>0.31</td>\n",
       "      <td>60.7</td>\n",
       "      <td>59.0</td>\n",
       "      <td>5</td>\n",
       "      <td>7</td>\n",
       "      <td>5</td>\n",
       "    </tr>\n",
       "  </tbody>\n",
       "</table>\n",
       "</div>"
      ],
      "text/plain": [
       "      carat  depth  table  cut_num  color_num  clarity_num\n",
       "4043   0.31   60.7   59.0        5          7            5"
      ]
     },
     "execution_count": 9,
     "metadata": {},
     "output_type": "execute_result"
    }
   ],
   "source": [
    "test_.sample()"
   ]
  },
  {
   "cell_type": "markdown",
   "id": "246b72ad",
   "metadata": {},
   "source": [
    "### Train, test, split:"
   ]
  },
  {
   "cell_type": "code",
   "execution_count": 10,
   "id": "0a48c0b1",
   "metadata": {},
   "outputs": [],
   "source": [
    "from sklearn.model_selection import train_test_split"
   ]
  },
  {
   "cell_type": "code",
   "execution_count": 11,
   "id": "a5906a07",
   "metadata": {},
   "outputs": [],
   "source": [
    "X_train, X_test, y_train, y_test = train_test_split(X, y, test_size=0.2)"
   ]
  },
  {
   "cell_type": "code",
   "execution_count": 12,
   "id": "a51f76fb",
   "metadata": {},
   "outputs": [
    {
     "data": {
      "text/plain": [
       "(32364, 6)"
      ]
     },
     "execution_count": 12,
     "metadata": {},
     "output_type": "execute_result"
    }
   ],
   "source": [
    "X_train.shape"
   ]
  },
  {
   "cell_type": "code",
   "execution_count": 13,
   "id": "8b4694d4",
   "metadata": {},
   "outputs": [
    {
     "data": {
      "text/plain": [
       "(8091, 6)"
      ]
     },
     "execution_count": 13,
     "metadata": {},
     "output_type": "execute_result"
    }
   ],
   "source": [
    "X_test.shape"
   ]
  },
  {
   "cell_type": "code",
   "execution_count": 14,
   "id": "1259cac1",
   "metadata": {},
   "outputs": [
    {
     "data": {
      "text/plain": [
       "(32364,)"
      ]
     },
     "execution_count": 14,
     "metadata": {},
     "output_type": "execute_result"
    }
   ],
   "source": [
    "y_train.shape"
   ]
  },
  {
   "cell_type": "code",
   "execution_count": 15,
   "id": "e98e9663",
   "metadata": {},
   "outputs": [
    {
     "data": {
      "text/plain": [
       "(8091,)"
      ]
     },
     "execution_count": 15,
     "metadata": {},
     "output_type": "execute_result"
    }
   ],
   "source": [
    "y_test.shape"
   ]
  },
  {
   "cell_type": "markdown",
   "id": "0e3cc496",
   "metadata": {},
   "source": [
    "### Modelos de Regresión (variables cuantitativas):"
   ]
  },
  {
   "cell_type": "code",
   "execution_count": 16,
   "id": "9bbf83a9",
   "metadata": {},
   "outputs": [],
   "source": [
    "models={'lin':LinearRegression(),\n",
    "    'ridge': Ridge(),\n",
    "    'lasso': Lasso(),\n",
    "    'sgd': SGDRegressor(),\n",
    "    'knn': KNeighborsRegressor(),\n",
    "    'grad': GradientBoostingRegressor(),\n",
    "    'elas': ElasticNet(),\n",
    "    'svr' :LinearSVR(),\n",
    "    'tree': DecisionTreeRegressor(),\n",
    "    'random': RandomForestRegressor()\n",
    "        }"
   ]
  },
  {
   "cell_type": "code",
   "execution_count": 17,
   "id": "6ee673dd",
   "metadata": {},
   "outputs": [
    {
     "name": "stdout",
     "output_type": "stream",
     "text": [
      "ENTRENANDO:  lin\n",
      "ENTRENANDO:  ridge\n",
      "ENTRENANDO:  lasso\n",
      "ENTRENANDO:  sgd\n",
      "ENTRENANDO:  knn\n",
      "ENTRENANDO:  grad\n",
      "ENTRENANDO:  elas\n",
      "ENTRENANDO:  svr\n",
      "ENTRENANDO:  tree\n",
      "ENTRENANDO:  random\n"
     ]
    }
   ],
   "source": [
    "for name, model in models.items():\n",
    "    print(\"ENTRENANDO: \", name)\n",
    "    model.fit(X_train, y_train)"
   ]
  },
  {
   "cell_type": "code",
   "execution_count": 18,
   "id": "ccd10d22",
   "metadata": {},
   "outputs": [
    {
     "name": "stdout",
     "output_type": "stream",
     "text": [
      "------lin------\n",
      "RMSE -  1219.003617811825\n",
      "------ridge------\n",
      "RMSE -  1218.9872996393444\n",
      "------lasso------\n",
      "RMSE -  1218.929337162761\n",
      "------sgd------\n",
      "RMSE -  5342618.683750766\n",
      "------knn------\n",
      "RMSE -  1927.578129993123\n",
      "------grad------\n",
      "RMSE -  614.0703449914851\n",
      "------elas------\n",
      "RMSE -  2934.5413659331334\n",
      "------svr------\n",
      "RMSE -  1868.7548519191039\n",
      "------tree------\n",
      "RMSE -  733.5484455036707\n",
      "------random------\n",
      "RMSE -  548.1042944986865\n"
     ]
    }
   ],
   "source": [
    "for name, model in models.items():\n",
    "    y_pred = model.predict(X_test)\n",
    "    print(f\"------{name}------\")\n",
    "    print('RMSE - ', np.sqrt(metrics.mean_squared_error(y_test, y_pred)))"
   ]
  },
  {
   "cell_type": "markdown",
   "id": "b368d1cb",
   "metadata": {},
   "source": [
    "### Me quedo solo con los mejores modelos, es decir, con aquellos cuyo RMSE sea menor  (grad, tree, random) y los entreno de nuevo y predigo con todo \"train\"."
   ]
  },
  {
   "cell_type": "code",
   "execution_count": 22,
   "id": "38405dfe",
   "metadata": {},
   "outputs": [],
   "source": [
    "best_models={\n",
    "    'grad': GradientBoostingRegressor(),\n",
    "    'tree': DecisionTreeRegressor(),\n",
    "    'random': RandomForestRegressor()\n",
    "        }"
   ]
  },
  {
   "cell_type": "code",
   "execution_count": 23,
   "id": "c47a8d17",
   "metadata": {},
   "outputs": [
    {
     "name": "stdout",
     "output_type": "stream",
     "text": [
      "ENTRENANDO:  grad\n",
      "ENTRENANDO:  tree\n",
      "ENTRENANDO:  random\n"
     ]
    }
   ],
   "source": [
    "for name, model in best_models.items():\n",
    "    print(\"ENTRENANDO: \", name)\n",
    "    model.fit(X, y)"
   ]
  },
  {
   "cell_type": "code",
   "execution_count": 24,
   "id": "39f0bed7",
   "metadata": {},
   "outputs": [
    {
     "name": "stdout",
     "output_type": "stream",
     "text": [
      "------grad------\n",
      "RMSE -  610.7211689205222\n",
      "------tree------\n",
      "RMSE -  55.99749897463047\n",
      "------random------\n",
      "RMSE -  209.6784396489439\n"
     ]
    }
   ],
   "source": [
    "for name, model in best_models.items():\n",
    "    y_pred_X = model.predict(X)\n",
    "    print(f\"------{name}------\")\n",
    "    print('RMSE - ', np.sqrt(metrics.mean_squared_error(y, y_pred_X)))"
   ]
  },
  {
   "cell_type": "markdown",
   "id": "e4fc78e8",
   "metadata": {},
   "source": [
    "###  Ahora me quedo únicamente con el modelo \"tree\" y hago la predicción con \"test\":"
   ]
  },
  {
   "cell_type": "code",
   "execution_count": 37,
   "id": "9e3c9937",
   "metadata": {},
   "outputs": [],
   "source": [
    "tree=best_models[\"tree\"]"
   ]
  },
  {
   "cell_type": "code",
   "execution_count": 38,
   "id": "b89496fa",
   "metadata": {},
   "outputs": [],
   "source": [
    "y_pred_test=tree.predict(test_)"
   ]
  },
  {
   "cell_type": "code",
   "execution_count": 39,
   "id": "5a64697b",
   "metadata": {},
   "outputs": [],
   "source": [
    "test2[\"price\"]=y_pred_test"
   ]
  },
  {
   "cell_type": "code",
   "execution_count": 42,
   "id": "68415145",
   "metadata": {},
   "outputs": [],
   "source": [
    "submission1=test2.drop(columns=[\"Unnamed: 0\",\"carat\",\"depth\",\"table\",\"cut_num\",\"color_num\",\"clarity_num\",\"y_pred\"])"
   ]
  },
  {
   "cell_type": "code",
   "execution_count": 43,
   "id": "069b47a4",
   "metadata": {},
   "outputs": [
    {
     "data": {
      "text/html": [
       "<div>\n",
       "<style scoped>\n",
       "    .dataframe tbody tr th:only-of-type {\n",
       "        vertical-align: middle;\n",
       "    }\n",
       "\n",
       "    .dataframe tbody tr th {\n",
       "        vertical-align: top;\n",
       "    }\n",
       "\n",
       "    .dataframe thead th {\n",
       "        text-align: right;\n",
       "    }\n",
       "</style>\n",
       "<table border=\"1\" class=\"dataframe\">\n",
       "  <thead>\n",
       "    <tr style=\"text-align: right;\">\n",
       "      <th></th>\n",
       "      <th>id</th>\n",
       "      <th>price</th>\n",
       "    </tr>\n",
       "  </thead>\n",
       "  <tbody>\n",
       "    <tr>\n",
       "      <th>39</th>\n",
       "      <td>39</td>\n",
       "      <td>923.0</td>\n",
       "    </tr>\n",
       "  </tbody>\n",
       "</table>\n",
       "</div>"
      ],
      "text/plain": [
       "    id  price\n",
       "39  39  923.0"
      ]
     },
     "execution_count": 43,
     "metadata": {},
     "output_type": "execute_result"
    }
   ],
   "source": [
    "submission1.sample()"
   ]
  },
  {
   "cell_type": "code",
   "execution_count": 44,
   "id": "58da343a",
   "metadata": {},
   "outputs": [],
   "source": [
    "submission1.to_csv(\"../data/myfirstsubmissionf.csv\", index=False)"
   ]
  },
  {
   "cell_type": "markdown",
   "id": "6df9e487",
   "metadata": {},
   "source": [
    "### Intento mejorar mi resultado con los súper parámetros:"
   ]
  },
  {
   "cell_type": "code",
   "execution_count": 49,
   "id": "c983bcc1",
   "metadata": {},
   "outputs": [],
   "source": [
    "paremeters_tree = {'ccp_alpha': [0.0, 0.1, 0.2],\n",
    "                   'criterion': [\"squared_error\", \"friedman_mse\", \"absolute_error\", \"poisson\"], \n",
    "                   'max_depth': [0,1,2,3,4,5,None], \n",
    "                   'max_features': [\"auto\", \"sqrt\", \"log2\", None],\n",
    "                   'max_leaf_nodes': [0,1,2,3,4,5,None], \n",
    "                   'min_impurity_decrease': [0.0, 0.1, 0.2],\n",
    "                   'min_samples_leaf': [1,2,3,4,5], \n",
    "                   'min_samples_split': [1,2,3,4,5],\n",
    "                   'min_weight_fraction_leaf': [0.0, 0.1, 0.2],\n",
    "                   'splitter': ['best', 'random']\n",
    "                  }"
   ]
  },
  {
   "cell_type": "code",
   "execution_count": 51,
   "id": "bf50d9b5",
   "metadata": {},
   "outputs": [],
   "source": [
    "tree=best_models[\"tree\"]"
   ]
  },
  {
   "cell_type": "code",
   "execution_count": 52,
   "id": "979bdc80",
   "metadata": {},
   "outputs": [],
   "source": [
    "grid_tree = GridSearchCV(tree, paremeters_tree, verbose=1)"
   ]
  },
  {
   "cell_type": "code",
   "execution_count": null,
   "id": "90fa1700",
   "metadata": {},
   "outputs": [
    {
     "name": "stdout",
     "output_type": "stream",
     "text": [
      "Fitting 5 folds for each of 1058400 candidates, totalling 5292000 fits\n"
     ]
    }
   ],
   "source": [
    "grid_tree.fit(X_train,y_train)"
   ]
  },
  {
   "cell_type": "code",
   "execution_count": null,
   "id": "656bab62",
   "metadata": {},
   "outputs": [],
   "source": []
  }
 ],
 "metadata": {
  "kernelspec": {
   "display_name": "ironhack",
   "language": "python",
   "name": "ironhack"
  },
  "language_info": {
   "codemirror_mode": {
    "name": "ipython",
    "version": 3
   },
   "file_extension": ".py",
   "mimetype": "text/x-python",
   "name": "python",
   "nbconvert_exporter": "python",
   "pygments_lexer": "ipython3",
   "version": "3.8.5"
  }
 },
 "nbformat": 4,
 "nbformat_minor": 5
}
