{
 "cells": [
  {
   "cell_type": "code",
   "execution_count": 1,
   "id": "ee1db796",
   "metadata": {},
   "outputs": [],
   "source": [
    "import pandas as pd\n",
    "import numpy as np\n",
    "from sklearn import metrics\n",
    "\n",
    "from sklearn.linear_model import Ridge, Lasso\n",
    "from sklearn.linear_model import SGDRegressor\n",
    "from sklearn.neighbors import KNeighborsRegressor\n",
    "from sklearn.ensemble import GradientBoostingRegressor\n",
    "from sklearn.linear_model import ElasticNet\n",
    "from sklearn.svm import LinearSVR\n",
    "from sklearn.linear_model import LinearRegression\n",
    "from sklearn.ensemble import RandomForestRegressor\n",
    "from sklearn.tree import DecisionTreeRegressor\n",
    "\n",
    "from sklearn.model_selection import GridSearchCV\n",
    "\n",
    "import warnings\n",
    "warnings.filterwarnings(\"ignore\")"
   ]
  },
  {
   "cell_type": "markdown",
   "id": "67d5dee6",
   "metadata": {},
   "source": [
    "### Defino X,y (TRAIN):"
   ]
  },
  {
   "cell_type": "code",
   "execution_count": 2,
   "id": "47e3f6b0",
   "metadata": {},
   "outputs": [],
   "source": [
    "train2=pd.read_csv(\"../data/train2.csv\")"
   ]
  },
  {
   "cell_type": "code",
   "execution_count": 3,
   "id": "8cb4eb95",
   "metadata": {},
   "outputs": [
    {
     "data": {
      "text/html": [
       "<div>\n",
       "<style scoped>\n",
       "    .dataframe tbody tr th:only-of-type {\n",
       "        vertical-align: middle;\n",
       "    }\n",
       "\n",
       "    .dataframe tbody tr th {\n",
       "        vertical-align: top;\n",
       "    }\n",
       "\n",
       "    .dataframe thead th {\n",
       "        text-align: right;\n",
       "    }\n",
       "</style>\n",
       "<table border=\"1\" class=\"dataframe\">\n",
       "  <thead>\n",
       "    <tr style=\"text-align: right;\">\n",
       "      <th></th>\n",
       "      <th>Unnamed: 0</th>\n",
       "      <th>id</th>\n",
       "      <th>carat</th>\n",
       "      <th>depth</th>\n",
       "      <th>table</th>\n",
       "      <th>price</th>\n",
       "      <th>cut_num</th>\n",
       "      <th>color_num</th>\n",
       "      <th>clarity_num</th>\n",
       "    </tr>\n",
       "  </thead>\n",
       "  <tbody>\n",
       "    <tr>\n",
       "      <th>25807</th>\n",
       "      <td>25807</td>\n",
       "      <td>25807</td>\n",
       "      <td>2.04</td>\n",
       "      <td>60.9</td>\n",
       "      <td>57.0</td>\n",
       "      <td>14527</td>\n",
       "      <td>3</td>\n",
       "      <td>2</td>\n",
       "      <td>7</td>\n",
       "    </tr>\n",
       "  </tbody>\n",
       "</table>\n",
       "</div>"
      ],
      "text/plain": [
       "       Unnamed: 0     id  carat  depth  table  price  cut_num  color_num  \\\n",
       "25807       25807  25807   2.04   60.9   57.0  14527        3          2   \n",
       "\n",
       "       clarity_num  \n",
       "25807            7  "
      ]
     },
     "execution_count": 3,
     "metadata": {},
     "output_type": "execute_result"
    }
   ],
   "source": [
    "train2.sample()"
   ]
  },
  {
   "cell_type": "code",
   "execution_count": 4,
   "id": "a30e3ca0",
   "metadata": {},
   "outputs": [],
   "source": [
    "X=train2.drop(columns=[\"id\",\"price\",\"Unnamed: 0\"])"
   ]
  },
  {
   "cell_type": "code",
   "execution_count": 5,
   "id": "b0a172e8",
   "metadata": {},
   "outputs": [],
   "source": [
    "y=train2.price"
   ]
  },
  {
   "cell_type": "markdown",
   "id": "996a9e4e",
   "metadata": {},
   "source": [
    "### Cargo X (TEST):"
   ]
  },
  {
   "cell_type": "code",
   "execution_count": 6,
   "id": "3129a908",
   "metadata": {},
   "outputs": [],
   "source": [
    "test2=pd.read_csv(\"../data/test2.csv\")"
   ]
  },
  {
   "cell_type": "code",
   "execution_count": 7,
   "id": "c858488d",
   "metadata": {},
   "outputs": [
    {
     "data": {
      "text/html": [
       "<div>\n",
       "<style scoped>\n",
       "    .dataframe tbody tr th:only-of-type {\n",
       "        vertical-align: middle;\n",
       "    }\n",
       "\n",
       "    .dataframe tbody tr th {\n",
       "        vertical-align: top;\n",
       "    }\n",
       "\n",
       "    .dataframe thead th {\n",
       "        text-align: right;\n",
       "    }\n",
       "</style>\n",
       "<table border=\"1\" class=\"dataframe\">\n",
       "  <thead>\n",
       "    <tr style=\"text-align: right;\">\n",
       "      <th></th>\n",
       "      <th>Unnamed: 0</th>\n",
       "      <th>id</th>\n",
       "      <th>carat</th>\n",
       "      <th>depth</th>\n",
       "      <th>table</th>\n",
       "      <th>cut_num</th>\n",
       "      <th>color_num</th>\n",
       "      <th>clarity_num</th>\n",
       "    </tr>\n",
       "  </thead>\n",
       "  <tbody>\n",
       "    <tr>\n",
       "      <th>2471</th>\n",
       "      <td>2471</td>\n",
       "      <td>2471</td>\n",
       "      <td>0.41</td>\n",
       "      <td>61.6</td>\n",
       "      <td>57.0</td>\n",
       "      <td>4</td>\n",
       "      <td>4</td>\n",
       "      <td>4</td>\n",
       "    </tr>\n",
       "  </tbody>\n",
       "</table>\n",
       "</div>"
      ],
      "text/plain": [
       "      Unnamed: 0    id  carat  depth  table  cut_num  color_num  clarity_num\n",
       "2471        2471  2471   0.41   61.6   57.0        4          4            4"
      ]
     },
     "execution_count": 7,
     "metadata": {},
     "output_type": "execute_result"
    }
   ],
   "source": [
    "test2.sample()"
   ]
  },
  {
   "cell_type": "code",
   "execution_count": 8,
   "id": "4d2e60ec",
   "metadata": {},
   "outputs": [],
   "source": [
    "test_=test2.drop(columns=[\"id\",\"Unnamed: 0\"])"
   ]
  },
  {
   "cell_type": "code",
   "execution_count": 9,
   "id": "9c7e86a6",
   "metadata": {},
   "outputs": [
    {
     "data": {
      "text/html": [
       "<div>\n",
       "<style scoped>\n",
       "    .dataframe tbody tr th:only-of-type {\n",
       "        vertical-align: middle;\n",
       "    }\n",
       "\n",
       "    .dataframe tbody tr th {\n",
       "        vertical-align: top;\n",
       "    }\n",
       "\n",
       "    .dataframe thead th {\n",
       "        text-align: right;\n",
       "    }\n",
       "</style>\n",
       "<table border=\"1\" class=\"dataframe\">\n",
       "  <thead>\n",
       "    <tr style=\"text-align: right;\">\n",
       "      <th></th>\n",
       "      <th>carat</th>\n",
       "      <th>depth</th>\n",
       "      <th>table</th>\n",
       "      <th>cut_num</th>\n",
       "      <th>color_num</th>\n",
       "      <th>clarity_num</th>\n",
       "    </tr>\n",
       "  </thead>\n",
       "  <tbody>\n",
       "    <tr>\n",
       "      <th>4043</th>\n",
       "      <td>0.31</td>\n",
       "      <td>60.7</td>\n",
       "      <td>59.0</td>\n",
       "      <td>5</td>\n",
       "      <td>7</td>\n",
       "      <td>5</td>\n",
       "    </tr>\n",
       "  </tbody>\n",
       "</table>\n",
       "</div>"
      ],
      "text/plain": [
       "      carat  depth  table  cut_num  color_num  clarity_num\n",
       "4043   0.31   60.7   59.0        5          7            5"
      ]
     },
     "execution_count": 9,
     "metadata": {},
     "output_type": "execute_result"
    }
   ],
   "source": [
    "test_.sample()"
   ]
  },
  {
   "cell_type": "markdown",
   "id": "82cd238c",
   "metadata": {},
   "source": [
    "### Train, test, split:"
   ]
  },
  {
   "cell_type": "code",
   "execution_count": 10,
   "id": "ba73f4fc",
   "metadata": {},
   "outputs": [],
   "source": [
    "from sklearn.model_selection import train_test_split"
   ]
  },
  {
   "cell_type": "code",
   "execution_count": 11,
   "id": "535b85e5",
   "metadata": {},
   "outputs": [],
   "source": [
    "X_train, X_test, y_train, y_test = train_test_split(X, y, test_size=0.2)"
   ]
  },
  {
   "cell_type": "code",
   "execution_count": 12,
   "id": "2a5702d7",
   "metadata": {},
   "outputs": [
    {
     "data": {
      "text/plain": [
       "(32364, 6)"
      ]
     },
     "execution_count": 12,
     "metadata": {},
     "output_type": "execute_result"
    }
   ],
   "source": [
    "X_train.shape"
   ]
  },
  {
   "cell_type": "code",
   "execution_count": 13,
   "id": "811bf0e7",
   "metadata": {},
   "outputs": [
    {
     "data": {
      "text/plain": [
       "(8091, 6)"
      ]
     },
     "execution_count": 13,
     "metadata": {},
     "output_type": "execute_result"
    }
   ],
   "source": [
    "X_test.shape"
   ]
  },
  {
   "cell_type": "code",
   "execution_count": 14,
   "id": "32ec568b",
   "metadata": {},
   "outputs": [
    {
     "data": {
      "text/plain": [
       "(32364,)"
      ]
     },
     "execution_count": 14,
     "metadata": {},
     "output_type": "execute_result"
    }
   ],
   "source": [
    "y_train.shape"
   ]
  },
  {
   "cell_type": "code",
   "execution_count": 15,
   "id": "2de4b84b",
   "metadata": {},
   "outputs": [
    {
     "data": {
      "text/plain": [
       "(8091,)"
      ]
     },
     "execution_count": 15,
     "metadata": {},
     "output_type": "execute_result"
    }
   ],
   "source": [
    "y_test.shape"
   ]
  },
  {
   "cell_type": "markdown",
   "id": "51a7c6d9",
   "metadata": {},
   "source": [
    "### GridSearchCV de sklearn - Modelos de Regresión (variables cuantitativas)."
   ]
  },
  {
   "cell_type": "code",
   "execution_count": 16,
   "id": "80331a06",
   "metadata": {},
   "outputs": [],
   "source": [
    "models={'lin':LinearRegression(),\n",
    "    'ridge': Ridge(),\n",
    "    'lasso': Lasso(),\n",
    "    'sgd': SGDRegressor(),\n",
    "    'knn': KNeighborsRegressor(),\n",
    "    'grad': GradientBoostingRegressor(),\n",
    "    'elas': ElasticNet(),\n",
    "    'svr' :LinearSVR(),\n",
    "    'tree': DecisionTreeRegressor(),\n",
    "    'random': RandomForestRegressor()\n",
    "        }"
   ]
  },
  {
   "cell_type": "code",
   "execution_count": 17,
   "id": "8d2cf2c3",
   "metadata": {},
   "outputs": [
    {
     "name": "stdout",
     "output_type": "stream",
     "text": [
      "ENTRENANDO:  lin\n",
      "ENTRENANDO:  ridge\n",
      "ENTRENANDO:  lasso\n",
      "ENTRENANDO:  sgd\n",
      "ENTRENANDO:  knn\n",
      "ENTRENANDO:  grad\n",
      "ENTRENANDO:  elas\n",
      "ENTRENANDO:  svr\n",
      "ENTRENANDO:  tree\n",
      "ENTRENANDO:  random\n"
     ]
    }
   ],
   "source": [
    "for name, model in models.items():\n",
    "    print(\"ENTRENANDO: \", name)\n",
    "    model.fit(X_train, y_train)"
   ]
  },
  {
   "cell_type": "code",
   "execution_count": 18,
   "id": "5a71cb94",
   "metadata": {},
   "outputs": [
    {
     "name": "stdout",
     "output_type": "stream",
     "text": [
      "------lin------\n",
      "RMSE -  1219.003617811825\n",
      "------ridge------\n",
      "RMSE -  1218.9872996393444\n",
      "------lasso------\n",
      "RMSE -  1218.929337162761\n",
      "------sgd------\n",
      "RMSE -  5342618.683750766\n",
      "------knn------\n",
      "RMSE -  1927.578129993123\n",
      "------grad------\n",
      "RMSE -  614.0703449914851\n",
      "------elas------\n",
      "RMSE -  2934.5413659331334\n",
      "------svr------\n",
      "RMSE -  1868.7548519191039\n",
      "------tree------\n",
      "RMSE -  733.5484455036707\n",
      "------random------\n",
      "RMSE -  548.1042944986865\n"
     ]
    }
   ],
   "source": [
    "for name, model in models.items():\n",
    "    y_pred = model.predict(X_test)\n",
    "    print(f\"------{name}------\")\n",
    "    print('RMSE - ', np.sqrt(metrics.mean_squared_error(y_test, y_pred)))"
   ]
  },
  {
   "cell_type": "code",
   "execution_count": 22,
   "id": "2a501217",
   "metadata": {},
   "outputs": [],
   "source": [
    "best_models={\n",
    "    'grad': GradientBoostingRegressor(),\n",
    "    'tree': DecisionTreeRegressor(),\n",
    "    'random': RandomForestRegressor()\n",
    "        }"
   ]
  },
  {
   "cell_type": "code",
   "execution_count": 23,
   "id": "5108d113",
   "metadata": {},
   "outputs": [
    {
     "name": "stdout",
     "output_type": "stream",
     "text": [
      "ENTRENANDO:  grad\n",
      "ENTRENANDO:  tree\n",
      "ENTRENANDO:  random\n"
     ]
    }
   ],
   "source": [
    "for name, model in best_models.items():\n",
    "    print(\"ENTRENANDO: \", name)\n",
    "    model.fit(X, y)"
   ]
  },
  {
   "cell_type": "code",
   "execution_count": 24,
   "id": "125b2014",
   "metadata": {},
   "outputs": [
    {
     "name": "stdout",
     "output_type": "stream",
     "text": [
      "------grad------\n",
      "RMSE -  610.7211689205222\n",
      "------tree------\n",
      "RMSE -  55.99749897463047\n",
      "------random------\n",
      "RMSE -  209.6784396489439\n"
     ]
    }
   ],
   "source": [
    "for name, model in best_models.items():\n",
    "    y_pred_X = model.predict(X)\n",
    "    print(f\"------{name}------\")\n",
    "    print('RMSE - ', np.sqrt(metrics.mean_squared_error(y, y_pred_X)))"
   ]
  },
  {
   "cell_type": "markdown",
   "id": "384fe25c",
   "metadata": {},
   "source": [
    "### Predicción con test:"
   ]
  },
  {
   "cell_type": "code",
   "execution_count": 37,
   "id": "1c1dfbdd",
   "metadata": {},
   "outputs": [],
   "source": [
    "tree=best_models[\"tree\"]"
   ]
  },
  {
   "cell_type": "code",
   "execution_count": 38,
   "id": "24b6a7aa",
   "metadata": {},
   "outputs": [],
   "source": [
    "y_pred_test=tree.predict(test_)"
   ]
  },
  {
   "cell_type": "code",
   "execution_count": 39,
   "id": "d0bfcbcd",
   "metadata": {},
   "outputs": [],
   "source": [
    "test2[\"price\"]=y_pred_test"
   ]
  },
  {
   "cell_type": "code",
   "execution_count": 42,
   "id": "0a69b20b",
   "metadata": {},
   "outputs": [],
   "source": [
    "submission1=test2.drop(columns=[\"Unnamed: 0\",\"carat\",\"depth\",\"table\",\"cut_num\",\"color_num\",\"clarity_num\",\"y_pred\"])"
   ]
  },
  {
   "cell_type": "code",
   "execution_count": 43,
   "id": "4d82f145",
   "metadata": {},
   "outputs": [
    {
     "data": {
      "text/html": [
       "<div>\n",
       "<style scoped>\n",
       "    .dataframe tbody tr th:only-of-type {\n",
       "        vertical-align: middle;\n",
       "    }\n",
       "\n",
       "    .dataframe tbody tr th {\n",
       "        vertical-align: top;\n",
       "    }\n",
       "\n",
       "    .dataframe thead th {\n",
       "        text-align: right;\n",
       "    }\n",
       "</style>\n",
       "<table border=\"1\" class=\"dataframe\">\n",
       "  <thead>\n",
       "    <tr style=\"text-align: right;\">\n",
       "      <th></th>\n",
       "      <th>id</th>\n",
       "      <th>price</th>\n",
       "    </tr>\n",
       "  </thead>\n",
       "  <tbody>\n",
       "    <tr>\n",
       "      <th>39</th>\n",
       "      <td>39</td>\n",
       "      <td>923.0</td>\n",
       "    </tr>\n",
       "  </tbody>\n",
       "</table>\n",
       "</div>"
      ],
      "text/plain": [
       "    id  price\n",
       "39  39  923.0"
      ]
     },
     "execution_count": 43,
     "metadata": {},
     "output_type": "execute_result"
    }
   ],
   "source": [
    "submission1.sample()"
   ]
  },
  {
   "cell_type": "code",
   "execution_count": 44,
   "id": "84920ba7",
   "metadata": {},
   "outputs": [],
   "source": [
    "submission1.to_csv(\"../data/myfirstsubmissionf.csv\", index=False)"
   ]
  },
  {
   "cell_type": "code",
   "execution_count": null,
   "id": "2237917f",
   "metadata": {},
   "outputs": [],
   "source": []
  },
  {
   "cell_type": "code",
   "execution_count": null,
   "id": "855be049",
   "metadata": {},
   "outputs": [],
   "source": []
  },
  {
   "cell_type": "code",
   "execution_count": 15,
   "id": "b62ece38",
   "metadata": {},
   "outputs": [],
   "source": [
    "parameters_lin={'copy_X': [True,False],\n",
    "                'fit_intercept': [True,False],\n",
    "                'n_jobs': [-2,-1,1,2,None],  \n",
    "                'positive': [True,False]\n",
    "               }"
   ]
  },
  {
   "cell_type": "code",
   "execution_count": 16,
   "id": "6a2db7e1",
   "metadata": {},
   "outputs": [],
   "source": [
    "parameters_ridge={'alpha': [1.0,2.0,3.0,4.0], \n",
    "                 'copy_X': [True,False], \n",
    "                 'fit_intercept': [True,False], \n",
    "                 'max_iter': [1000, 15000, None],  \n",
    "                 'positive': [True,False], \n",
    "                 'random_state':[1,2,3,4,5,None] , \n",
    "                 'solver': ['auto', 'svd', 'cholesky', 'lsqr', 'sparse_cg'], \n",
    "                 'tol': [0.001,0.002,0.003]\n",
    "                 }"
   ]
  },
  {
   "cell_type": "code",
   "execution_count": 17,
   "id": "5cdcd4eb",
   "metadata": {},
   "outputs": [],
   "source": [
    "parameters_lasso={'alpha': [0.0,1.0], \n",
    "                  'copy_X': [True,False], \n",
    "                  'fit_intercept': [True,False], \n",
    "                  'max_iter': [500,1000,1500],  \n",
    "                  'positive': [True,False], \n",
    "                  'precompute': [True,False], \n",
    "                  'random_state': [True,False], \n",
    "                  'selection': ['cyclic','random'], \n",
    "                  'tol': [0.0001, 0.0002],\n",
    "                  'warm_start': [True,False]\n",
    "                 }"
   ]
  },
  {
   "cell_type": "code",
   "execution_count": 18,
   "id": "59a80913",
   "metadata": {},
   "outputs": [],
   "source": [
    "parameters_sgd={'alpha': [0.0001,0.001,0.01], \n",
    "                'average': [True,False], \n",
    "                'early_stopping': [True,False], \n",
    "                'epsilon': [0.1,0.2,0.3], \n",
    "                'eta0': [0.1,0.2,0.3], \n",
    "                'fit_intercept': [True,False], \n",
    "                'l1_ratio': [0,0.15,0.5,0.75,1.0], \n",
    "                'learning_rate': ['invscaling','adaptive','constant','constant'], \n",
    "                'loss': ['squared_error', 'huber', 'epsilon_insensitive', 'squared_epsilon_insensitive'],\n",
    "                'max_iter': [500,1000,2000], \n",
    "                'n_iter_no_change': [2,5,10], \n",
    "                'penalty': ['l2','l1', 'elasticnet'], \n",
    "                'power_t': [0.25, 0.5],  \n",
    "                'shuffle': [True,False], \n",
    "                'tol': [0.001, None], \n",
    "                'validation_fraction': [0.0,0.1,0.5,0.75,1.0], \n",
    "                'verbose': [0,1,2], \n",
    "                'warm_start': [True,False]\n",
    "               }"
   ]
  },
  {
   "cell_type": "code",
   "execution_count": 19,
   "id": "494b8e3c",
   "metadata": {},
   "outputs": [],
   "source": [
    "parameters_knn={'algorithm': ['auto','ball_tree', 'kd_tree', 'brute'], \n",
    "                'leaf_size': [20,30,40], \n",
    "                'metric': ['minkowski',\"precomputed\"],  \n",
    "                'n_jobs': [-1,None], \n",
    "                'n_neighbors':[1,2,3,4,5,6,7,8,9], \n",
    "                'p': [1,2], \n",
    "                'weights': ['uniform','distance']\n",
    "               }"
   ]
  },
  {
   "cell_type": "code",
   "execution_count": 20,
   "id": "454e4c90",
   "metadata": {},
   "outputs": [],
   "source": [
    "parameters_grad={'alpha': [0.1, 0.5, 0.9], \n",
    "                 'ccp_alpha': [0.0,0.1, 0.5, 0.9], \n",
    "                 'criterion': ['friedman_mse', 'squared_error', 'mse', 'mae'],  \n",
    "                 'learning_rate': [0.1, 0.5], \n",
    "                 'loss': ['squared_error', 'absolute_error', 'huber', 'quantile'], \n",
    "                 'max_depth': [1,2,3,4,5], \n",
    "                 'max_features': ['auto', 'sqrt', 'log2',None], \n",
    "                 'max_leaf_nodes':[50,100,200, None], \n",
    "                 'min_impurity_decrease': [0.0,0.1,0.5,1.0], \n",
    "                 'min_samples_leaf': [1,2,3,4,5], \n",
    "                 'min_samples_split': [1,2,3,4,5], \n",
    "                 'min_weight_fraction_leaf': [0.0, 0.5],\n",
    "                 'n_estimators': [100, 200,300, 500], \n",
    "                 'n_iter_no_change': [2,5,10,None],  \n",
    "                 'subsample': [0.1,0.5,1.0], \n",
    "                 'tol': [0.0001, 0.0002, 0.0003, 0.0004, 0.0005],\n",
    "                 'validation_fraction': [0.0,0.1,0.5, 0.75,1.0], \n",
    "                 'verbose': [0,1,2],\n",
    "                 'warm_start': [True,False]}"
   ]
  },
  {
   "cell_type": "code",
   "execution_count": 21,
   "id": "a4ed6603",
   "metadata": {},
   "outputs": [],
   "source": [
    "parameter_elast = {'alpha': [1.0, 2.0, 3.0, 4.0, 5.0], \n",
    "                   'copy_X': [True, False],\n",
    "                   'fit_intercept': [True, False],\n",
    "                   'l1_ratio': [0.1, 0.5, 1.0], \n",
    "                   'max_iter': [1000, 2000, 3000, 4000, 5000], \n",
    "                   'positive': [True, False],\n",
    "                   'precompute': [True, False],\n",
    "                   'selection': ['cyclic', 'random'], \n",
    "                   'tol': [0.0001, 0.0002, 0.0003, 0.0004, 0.0005],\n",
    "                   'warm_start': [True, False],\n",
    "                  }"
   ]
  },
  {
   "cell_type": "code",
   "execution_count": 22,
   "id": "fa9233cf",
   "metadata": {},
   "outputs": [],
   "source": [
    "parameters_svr = {'C': [1.0, 2.0, 3.0, 4.0, 5.0], \n",
    "                  'dual': [True, False], \n",
    "                  'epsilon': [0.0, 1.0, 2.0, 3.0, 4.0, 5.0],\n",
    "                  'fit_intercept': [True, False], \n",
    "                  'intercept_scaling': [1.0, 2.0, 3.0, 4.0, 5.0],\n",
    "                  'loss': ['epsilon_insensitive', 'squared_epsilon_insensitive'], \n",
    "                  'max_iter': [1000, 2000, 3000, 4000, 5000], \n",
    "                  'tol': [0.0001, 0.0002, 0.0003, 0.0004, 0.0005],\n",
    "                  'verbose': [0, 1, 2]\n",
    "                 }"
   ]
  },
  {
   "cell_type": "code",
   "execution_count": 23,
   "id": "2a240359",
   "metadata": {},
   "outputs": [],
   "source": [
    "paremeters_tree = {'ccp_alpha': [0.0, 0.1, 0.2],\n",
    "                   'criterion': [\"squared_error\", \"friedman_mse\", \"absolute_error\", \"poisson\"], \n",
    "                   'max_depth': [0,1,2,3,4,5,None], \n",
    "                   'max_features': [\"auto\", \"sqrt\", \"log2\", None],\n",
    "                   'max_leaf_nodes': [0,1,2,3,4,5,None], \n",
    "                   'min_impurity_decrease': [0.0, 0.1, 0.2],\n",
    "                   'min_samples_leaf': [1,2,3,4,5], \n",
    "                   'min_samples_split': [1,2,3,4,5],\n",
    "                   'min_weight_fraction_leaf': [0.0, 0.1, 0.2],\n",
    "                   'splitter': ['best', 'random']\n",
    "                  }"
   ]
  },
  {
   "cell_type": "code",
   "execution_count": 24,
   "id": "654b6441",
   "metadata": {},
   "outputs": [],
   "source": [
    "parameters_rand = {'bootstrap': [True, False],\n",
    "                   'max_depth': [10, 20, 30, 40, 50, 60, 70, 80, 90, 100, None],\n",
    "                   'max_features': ['auto', 'sqrt'],\n",
    "                   'min_samples_leaf': [1, 2, 4],\n",
    "                    'min_samples_split': [2, 5, 10],\n",
    "                    'n_estimators': [200, 400, 600, 800, 1000, 1200, 1400, 1600, 1800, 2000]\n",
    "                  }"
   ]
  },
  {
   "cell_type": "code",
   "execution_count": 25,
   "id": "ffb86544",
   "metadata": {},
   "outputs": [],
   "source": [
    "dicc_parametros={\"parameters_lin\":parameters_lin,\"parameters_ridge\":parameters_ridge,\"parameters_lasso\":parameters_lasso,\"parameters_sgd\": parameters_sgd,\"parameters_knn\":parameters_knn,\"parameters_grad\":parameters_grad,\"parameter_elast\":parameter_elast,\"parameters_svr\":parameters_svr,\"paremeters_tree\":paremeters_tree,\"parameters_rand\":parameters_rand}"
   ]
  },
  {
   "cell_type": "code",
   "execution_count": 26,
   "id": "53ed036c",
   "metadata": {},
   "outputs": [],
   "source": [
    "#for name,model in models.items():\n",
    "   # for k,v in dicc_parametros.items():\n",
    "       # grid = GridSearchCV(models[name], dicc_parametros[k], verbose=1)\n",
    "      "
   ]
  },
  {
   "cell_type": "markdown",
   "id": "f048c68f",
   "metadata": {},
   "source": [
    "#### Linear Regression:"
   ]
  },
  {
   "cell_type": "code",
   "execution_count": 27,
   "id": "f6ca4e7a",
   "metadata": {},
   "outputs": [],
   "source": [
    "lin=models[\"lin\"]"
   ]
  },
  {
   "cell_type": "code",
   "execution_count": 28,
   "id": "ac0ab106",
   "metadata": {},
   "outputs": [],
   "source": [
    "grid_lin = GridSearchCV(models[\"lin\"], dicc_parametros['parameters_lin'], verbose=1)"
   ]
  },
  {
   "cell_type": "code",
   "execution_count": 29,
   "id": "77ff1bd7",
   "metadata": {},
   "outputs": [
    {
     "name": "stdout",
     "output_type": "stream",
     "text": [
      "Fitting 5 folds for each of 40 candidates, totalling 200 fits\n"
     ]
    },
    {
     "data": {
      "text/plain": [
       "GridSearchCV(estimator=LinearRegression(),\n",
       "             param_grid={'copy_X': [True, False],\n",
       "                         'fit_intercept': [True, False],\n",
       "                         'n_jobs': [-2, -1, 1, 2, None],\n",
       "                         'positive': [True, False]},\n",
       "             verbose=1)"
      ]
     },
     "execution_count": 29,
     "metadata": {},
     "output_type": "execute_result"
    }
   ],
   "source": [
    "grid_lin.fit(X_train,y_train)"
   ]
  },
  {
   "cell_type": "code",
   "execution_count": 30,
   "id": "ec20aeba",
   "metadata": {},
   "outputs": [
    {
     "name": "stdout",
     "output_type": "stream",
     "text": [
      "{'copy_X': True, 'fit_intercept': True, 'n_jobs': -2, 'positive': False}\n"
     ]
    }
   ],
   "source": [
    "print(grid_lin.best_params_)"
   ]
  },
  {
   "cell_type": "markdown",
   "id": "e0dd1c15",
   "metadata": {},
   "source": [
    "#### Ridge:"
   ]
  },
  {
   "cell_type": "code",
   "execution_count": 31,
   "id": "392719e4",
   "metadata": {},
   "outputs": [],
   "source": [
    "ridge=models[\"ridge\"]"
   ]
  },
  {
   "cell_type": "code",
   "execution_count": 32,
   "id": "4ba1d6a9",
   "metadata": {},
   "outputs": [],
   "source": [
    "grid_ridge = GridSearchCV(ridge, parameters_ridge, verbose=1)"
   ]
  },
  {
   "cell_type": "code",
   "execution_count": 33,
   "id": "2b3231ae",
   "metadata": {
    "scrolled": true
   },
   "outputs": [
    {
     "name": "stdout",
     "output_type": "stream",
     "text": [
      "Fitting 5 folds for each of 8640 candidates, totalling 43200 fits\n"
     ]
    },
    {
     "data": {
      "text/plain": [
       "GridSearchCV(estimator=Ridge(),\n",
       "             param_grid={'alpha': [1.0, 2.0, 3.0, 4.0], 'copy_X': [True, False],\n",
       "                         'fit_intercept': [True, False],\n",
       "                         'max_iter': [1000, 15000, None],\n",
       "                         'positive': [True, False],\n",
       "                         'random_state': [1, 2, 3, 4, 5, None],\n",
       "                         'solver': ['auto', 'svd', 'cholesky', 'lsqr',\n",
       "                                    'sparse_cg'],\n",
       "                         'tol': [0.001, 0.002, 0.003]},\n",
       "             verbose=1)"
      ]
     },
     "execution_count": 33,
     "metadata": {},
     "output_type": "execute_result"
    }
   ],
   "source": [
    "grid_ridge.fit(X_train,y_train)"
   ]
  },
  {
   "cell_type": "code",
   "execution_count": 34,
   "id": "15ed8bd3",
   "metadata": {},
   "outputs": [
    {
     "name": "stdout",
     "output_type": "stream",
     "text": [
      "{'alpha': 1.0, 'copy_X': True, 'fit_intercept': True, 'max_iter': 1000, 'positive': False, 'random_state': 1, 'solver': 'auto', 'tol': 0.001}\n"
     ]
    }
   ],
   "source": [
    "print(grid_ridge.best_params_)"
   ]
  },
  {
   "cell_type": "markdown",
   "id": "574eaa46",
   "metadata": {},
   "source": [
    "#### Lasso:"
   ]
  },
  {
   "cell_type": "code",
   "execution_count": 35,
   "id": "19937bc0",
   "metadata": {},
   "outputs": [],
   "source": [
    "lasso=models[\"lasso\"]"
   ]
  },
  {
   "cell_type": "code",
   "execution_count": 36,
   "id": "ce9b410c",
   "metadata": {},
   "outputs": [],
   "source": [
    "grid_lasso = GridSearchCV(lasso, parameters_lasso, verbose=1)"
   ]
  },
  {
   "cell_type": "code",
   "execution_count": 37,
   "id": "c586fef5",
   "metadata": {},
   "outputs": [
    {
     "name": "stdout",
     "output_type": "stream",
     "text": [
      "Fitting 5 folds for each of 1536 candidates, totalling 7680 fits\n"
     ]
    },
    {
     "data": {
      "text/plain": [
       "GridSearchCV(estimator=Lasso(),\n",
       "             param_grid={'alpha': [0.0, 1.0], 'copy_X': [True, False],\n",
       "                         'fit_intercept': [True, False],\n",
       "                         'max_iter': [500, 1000, 1500],\n",
       "                         'positive': [True, False], 'precompute': [True, False],\n",
       "                         'random_state': [True, False],\n",
       "                         'selection': ['cyclic', 'random'],\n",
       "                         'tol': [0.0001, 0.0002], 'warm_start': [True, False]},\n",
       "             verbose=1)"
      ]
     },
     "execution_count": 37,
     "metadata": {},
     "output_type": "execute_result"
    }
   ],
   "source": [
    "grid_lasso.fit(X_train,y_train)"
   ]
  },
  {
   "cell_type": "code",
   "execution_count": 38,
   "id": "644890c5",
   "metadata": {},
   "outputs": [
    {
     "name": "stdout",
     "output_type": "stream",
     "text": [
      "{'alpha': 0.0, 'copy_X': True, 'fit_intercept': True, 'max_iter': 500, 'positive': False, 'precompute': True, 'random_state': True, 'selection': 'cyclic', 'tol': 0.0001, 'warm_start': True}\n"
     ]
    }
   ],
   "source": [
    "print(grid_lasso.best_params_)"
   ]
  },
  {
   "cell_type": "markdown",
   "id": "70800cdc",
   "metadata": {},
   "source": [
    "#### sgd:"
   ]
  },
  {
   "cell_type": "code",
   "execution_count": 39,
   "id": "0b9926c1",
   "metadata": {},
   "outputs": [],
   "source": [
    "sgd=models[\"sgd\"]"
   ]
  },
  {
   "cell_type": "code",
   "execution_count": 40,
   "id": "67776cff",
   "metadata": {},
   "outputs": [],
   "source": [
    "grid_sgd = GridSearchCV(sgd, parameters_sgd, verbose=1)"
   ]
  },
  {
   "cell_type": "code",
   "execution_count": null,
   "id": "264d5a48",
   "metadata": {},
   "outputs": [],
   "source": [
    "grid_sgd.fit(X_train,y_train)"
   ]
  },
  {
   "cell_type": "markdown",
   "id": "c6203714",
   "metadata": {},
   "source": [
    "### Entreno los modelos con sus mejores parámetros:"
   ]
  },
  {
   "cell_type": "code",
   "execution_count": 44,
   "id": "706c0944",
   "metadata": {},
   "outputs": [],
   "source": [
    "best={'lin':LinearRegression(copy_X=True, fit_intercept=True, n_jobs= -2, positive= False),\n",
    "    'ridge': Ridge(alpha= 2.0, copy_X= True, fit_intercept= True, max_iter= 1000, positive= False, random_state= 1, solver= 'auto', tol= 0.001),\n",
    "    'lasso': Lasso(alpha= 0.0, copy_X= True, fit_intercept= True, max_iter= 500, positive= False, precompute= True, random_state= True, selection= 'cyclic', tol= 0.0001, warm_start= True),\n",
    "    'sgd': SGDRegressor(),\n",
    "    'knn': KNeighborsRegressor(),\n",
    "    'grad': GradientBoostingRegressor(),\n",
    "    'elas': ElasticNet(),\n",
    "    'svr' :LinearSVR(),\n",
    "    'tree': DecisionTreeRegressor(),\n",
    "    'random': RandomForestRegressor()\n",
    "        }"
   ]
  },
  {
   "cell_type": "code",
   "execution_count": 48,
   "id": "3cc954a5",
   "metadata": {
    "scrolled": true
   },
   "outputs": [
    {
     "name": "stdout",
     "output_type": "stream",
     "text": [
      "ENTRENANDO:  lin\n",
      "ENTRENANDO:  ridge\n",
      "ENTRENANDO:  lasso\n",
      "ENTRENANDO:  sgd\n",
      "ENTRENANDO:  knn\n",
      "ENTRENANDO:  grad\n",
      "ENTRENANDO:  elas\n",
      "ENTRENANDO:  svr\n",
      "ENTRENANDO:  tree\n",
      "ENTRENANDO:  random\n"
     ]
    }
   ],
   "source": [
    "for name, model in best.items():\n",
    "    print(\"ENTRENANDO: \", name)\n",
    "    model.fit(X, y)\n"
   ]
  },
  {
   "cell_type": "code",
   "execution_count": 70,
   "id": "f64c87bb",
   "metadata": {},
   "outputs": [],
   "source": [
    "lin=LinearRegression(copy_X=True, fit_intercept=True, n_jobs= -2, positive= False)"
   ]
  },
  {
   "cell_type": "code",
   "execution_count": 71,
   "id": "ca8631aa",
   "metadata": {},
   "outputs": [
    {
     "data": {
      "text/plain": [
       "LinearRegression(n_jobs=-2)"
      ]
     },
     "execution_count": 71,
     "metadata": {},
     "output_type": "execute_result"
    }
   ],
   "source": [
    "lin.fit(X_train,y_train)"
   ]
  },
  {
   "cell_type": "code",
   "execution_count": 65,
   "id": "3985020f",
   "metadata": {},
   "outputs": [],
   "source": [
    "for name, model in best.items():\n",
    "    y_pred = model.predict(X_test)\n",
    "    #print(f\"------{name}------\")\n",
    "    #print('RMSE - ', np.sqrt(metrics.mean_squared_error(y_test, y_pred)))"
   ]
  },
  {
   "cell_type": "code",
   "execution_count": 67,
   "id": "d28031d4",
   "metadata": {},
   "outputs": [],
   "source": [
    "y_pred_lin=lin.predict(X_test)"
   ]
  },
  {
   "cell_type": "code",
   "execution_count": 68,
   "id": "f0cd0666",
   "metadata": {},
   "outputs": [
    {
     "data": {
      "text/plain": [
       "array([3165.18579645, 3615.77471101, 4781.43065976, ..., 6868.54310125,\n",
       "        -48.82786001, 2290.77013005])"
      ]
     },
     "execution_count": 68,
     "metadata": {},
     "output_type": "execute_result"
    }
   ],
   "source": [
    "y_pred_lin"
   ]
  },
  {
   "cell_type": "code",
   "execution_count": null,
   "id": "e1b31a10",
   "metadata": {},
   "outputs": [],
   "source": []
  }
 ],
 "metadata": {
  "kernelspec": {
   "display_name": "ironhack",
   "language": "python",
   "name": "ironhack"
  },
  "language_info": {
   "codemirror_mode": {
    "name": "ipython",
    "version": 3
   },
   "file_extension": ".py",
   "mimetype": "text/x-python",
   "name": "python",
   "nbconvert_exporter": "python",
   "pygments_lexer": "ipython3",
   "version": "3.8.5"
  }
 },
 "nbformat": 4,
 "nbformat_minor": 5
}
