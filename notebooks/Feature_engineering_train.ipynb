{
 "cells": [
  {
   "cell_type": "code",
   "execution_count": 21,
   "id": "1a3efed9",
   "metadata": {},
   "outputs": [],
   "source": [
    "import pandas as pd\n",
    "import seaborn as sns\n",
    "sns.set_context(\"poster\")\n",
    "sns.set(rc={\"figure.figsize\": (12.,6.)})\n",
    "sns.set_style(\"whitegrid\")\n",
    "import numpy as np"
   ]
  },
  {
   "cell_type": "code",
   "execution_count": 5,
   "id": "da347ce2",
   "metadata": {},
   "outputs": [],
   "source": [
    "train=pd.read_csv(\"../data/train.csv\")"
   ]
  },
  {
   "cell_type": "code",
   "execution_count": 7,
   "id": "333e1919",
   "metadata": {},
   "outputs": [
    {
     "data": {
      "text/html": [
       "<div>\n",
       "<style scoped>\n",
       "    .dataframe tbody tr th:only-of-type {\n",
       "        vertical-align: middle;\n",
       "    }\n",
       "\n",
       "    .dataframe tbody tr th {\n",
       "        vertical-align: top;\n",
       "    }\n",
       "\n",
       "    .dataframe thead th {\n",
       "        text-align: right;\n",
       "    }\n",
       "</style>\n",
       "<table border=\"1\" class=\"dataframe\">\n",
       "  <thead>\n",
       "    <tr style=\"text-align: right;\">\n",
       "      <th></th>\n",
       "      <th>id</th>\n",
       "      <th>carat</th>\n",
       "      <th>cut</th>\n",
       "      <th>color</th>\n",
       "      <th>clarity</th>\n",
       "      <th>depth</th>\n",
       "      <th>table</th>\n",
       "      <th>x</th>\n",
       "      <th>y</th>\n",
       "      <th>z</th>\n",
       "      <th>price</th>\n",
       "    </tr>\n",
       "  </thead>\n",
       "  <tbody>\n",
       "    <tr>\n",
       "      <th>16289</th>\n",
       "      <td>16289</td>\n",
       "      <td>1.51</td>\n",
       "      <td>Fair</td>\n",
       "      <td>H</td>\n",
       "      <td>SI2</td>\n",
       "      <td>65.5</td>\n",
       "      <td>56.0</td>\n",
       "      <td>7.18</td>\n",
       "      <td>7.13</td>\n",
       "      <td>4.69</td>\n",
       "      <td>6816</td>\n",
       "    </tr>\n",
       "    <tr>\n",
       "      <th>27427</th>\n",
       "      <td>27427</td>\n",
       "      <td>1.01</td>\n",
       "      <td>Very Good</td>\n",
       "      <td>H</td>\n",
       "      <td>VS1</td>\n",
       "      <td>62.0</td>\n",
       "      <td>60.0</td>\n",
       "      <td>6.43</td>\n",
       "      <td>6.38</td>\n",
       "      <td>3.97</td>\n",
       "      <td>5593</td>\n",
       "    </tr>\n",
       "    <tr>\n",
       "      <th>17758</th>\n",
       "      <td>17758</td>\n",
       "      <td>1.59</td>\n",
       "      <td>Premium</td>\n",
       "      <td>J</td>\n",
       "      <td>SI1</td>\n",
       "      <td>62.5</td>\n",
       "      <td>60.0</td>\n",
       "      <td>7.42</td>\n",
       "      <td>7.46</td>\n",
       "      <td>4.65</td>\n",
       "      <td>7695</td>\n",
       "    </tr>\n",
       "    <tr>\n",
       "      <th>19696</th>\n",
       "      <td>19696</td>\n",
       "      <td>0.27</td>\n",
       "      <td>Very Good</td>\n",
       "      <td>E</td>\n",
       "      <td>VS1</td>\n",
       "      <td>61.9</td>\n",
       "      <td>59.0</td>\n",
       "      <td>4.16</td>\n",
       "      <td>4.21</td>\n",
       "      <td>2.59</td>\n",
       "      <td>470</td>\n",
       "    </tr>\n",
       "    <tr>\n",
       "      <th>5488</th>\n",
       "      <td>5488</td>\n",
       "      <td>0.70</td>\n",
       "      <td>Good</td>\n",
       "      <td>I</td>\n",
       "      <td>SI1</td>\n",
       "      <td>64.3</td>\n",
       "      <td>57.0</td>\n",
       "      <td>5.59</td>\n",
       "      <td>5.63</td>\n",
       "      <td>3.61</td>\n",
       "      <td>2034</td>\n",
       "    </tr>\n",
       "  </tbody>\n",
       "</table>\n",
       "</div>"
      ],
      "text/plain": [
       "          id  carat        cut color clarity  depth  table     x     y     z  \\\n",
       "16289  16289   1.51       Fair     H     SI2   65.5   56.0  7.18  7.13  4.69   \n",
       "27427  27427   1.01  Very Good     H     VS1   62.0   60.0  6.43  6.38  3.97   \n",
       "17758  17758   1.59    Premium     J     SI1   62.5   60.0  7.42  7.46  4.65   \n",
       "19696  19696   0.27  Very Good     E     VS1   61.9   59.0  4.16  4.21  2.59   \n",
       "5488    5488   0.70       Good     I     SI1   64.3   57.0  5.59  5.63  3.61   \n",
       "\n",
       "       price  \n",
       "16289   6816  \n",
       "27427   5593  \n",
       "17758   7695  \n",
       "19696    470  \n",
       "5488    2034  "
      ]
     },
     "execution_count": 7,
     "metadata": {},
     "output_type": "execute_result"
    }
   ],
   "source": [
    "train.sample(5)"
   ]
  },
  {
   "cell_type": "code",
   "execution_count": 8,
   "id": "68525aad",
   "metadata": {},
   "outputs": [
    {
     "name": "stdout",
     "output_type": "stream",
     "text": [
      "<class 'pandas.core.frame.DataFrame'>\n",
      "RangeIndex: 40455 entries, 0 to 40454\n",
      "Data columns (total 11 columns):\n",
      " #   Column   Non-Null Count  Dtype  \n",
      "---  ------   --------------  -----  \n",
      " 0   id       40455 non-null  int64  \n",
      " 1   carat    40455 non-null  float64\n",
      " 2   cut      40455 non-null  object \n",
      " 3   color    40455 non-null  object \n",
      " 4   clarity  40455 non-null  object \n",
      " 5   depth    40455 non-null  float64\n",
      " 6   table    40455 non-null  float64\n",
      " 7   x        40455 non-null  float64\n",
      " 8   y        40455 non-null  float64\n",
      " 9   z        40455 non-null  float64\n",
      " 10  price    40455 non-null  int64  \n",
      "dtypes: float64(6), int64(2), object(3)\n",
      "memory usage: 3.4+ MB\n"
     ]
    }
   ],
   "source": [
    "train.info()"
   ]
  },
  {
   "cell_type": "code",
   "execution_count": 9,
   "id": "8cf9e17c",
   "metadata": {},
   "outputs": [
    {
     "data": {
      "text/plain": [
       "(40455, 11)"
      ]
     },
     "execution_count": 9,
     "metadata": {},
     "output_type": "execute_result"
    }
   ],
   "source": [
    "train.shape"
   ]
  },
  {
   "cell_type": "code",
   "execution_count": 14,
   "id": "16d22a5a",
   "metadata": {},
   "outputs": [
    {
     "data": {
      "text/plain": [
       "id         0\n",
       "carat      0\n",
       "cut        0\n",
       "color      0\n",
       "clarity    0\n",
       "depth      0\n",
       "table      0\n",
       "x          0\n",
       "y          0\n",
       "z          0\n",
       "price      0\n",
       "dtype: int64"
      ]
     },
     "execution_count": 14,
     "metadata": {},
     "output_type": "execute_result"
    }
   ],
   "source": [
    "pd.isna(train).sum() #Compruebo que no hay nulos."
   ]
  },
  {
   "cell_type": "code",
   "execution_count": 16,
   "id": "9496b101",
   "metadata": {},
   "outputs": [
    {
     "data": {
      "text/html": [
       "<div>\n",
       "<style scoped>\n",
       "    .dataframe tbody tr th:only-of-type {\n",
       "        vertical-align: middle;\n",
       "    }\n",
       "\n",
       "    .dataframe tbody tr th {\n",
       "        vertical-align: top;\n",
       "    }\n",
       "\n",
       "    .dataframe thead th {\n",
       "        text-align: right;\n",
       "    }\n",
       "</style>\n",
       "<table border=\"1\" class=\"dataframe\">\n",
       "  <thead>\n",
       "    <tr style=\"text-align: right;\">\n",
       "      <th></th>\n",
       "      <th>id</th>\n",
       "      <th>carat</th>\n",
       "      <th>depth</th>\n",
       "      <th>table</th>\n",
       "      <th>x</th>\n",
       "      <th>y</th>\n",
       "      <th>z</th>\n",
       "      <th>price</th>\n",
       "    </tr>\n",
       "  </thead>\n",
       "  <tbody>\n",
       "    <tr>\n",
       "      <th>count</th>\n",
       "      <td>40455.000000</td>\n",
       "      <td>40455.000000</td>\n",
       "      <td>40455.000000</td>\n",
       "      <td>40455.000000</td>\n",
       "      <td>40455.000000</td>\n",
       "      <td>40455.000000</td>\n",
       "      <td>40455.000000</td>\n",
       "      <td>40455.000000</td>\n",
       "    </tr>\n",
       "    <tr>\n",
       "      <th>mean</th>\n",
       "      <td>20227.000000</td>\n",
       "      <td>0.798406</td>\n",
       "      <td>61.744793</td>\n",
       "      <td>57.450157</td>\n",
       "      <td>5.733269</td>\n",
       "      <td>5.736107</td>\n",
       "      <td>3.539249</td>\n",
       "      <td>3939.026968</td>\n",
       "    </tr>\n",
       "    <tr>\n",
       "      <th>std</th>\n",
       "      <td>11678.496907</td>\n",
       "      <td>0.473424</td>\n",
       "      <td>1.430860</td>\n",
       "      <td>2.235814</td>\n",
       "      <td>1.120257</td>\n",
       "      <td>1.119260</td>\n",
       "      <td>0.693619</td>\n",
       "      <td>3995.017122</td>\n",
       "    </tr>\n",
       "    <tr>\n",
       "      <th>min</th>\n",
       "      <td>0.000000</td>\n",
       "      <td>0.200000</td>\n",
       "      <td>43.000000</td>\n",
       "      <td>43.000000</td>\n",
       "      <td>0.000000</td>\n",
       "      <td>0.000000</td>\n",
       "      <td>0.000000</td>\n",
       "      <td>327.000000</td>\n",
       "    </tr>\n",
       "    <tr>\n",
       "      <th>25%</th>\n",
       "      <td>10113.500000</td>\n",
       "      <td>0.400000</td>\n",
       "      <td>61.000000</td>\n",
       "      <td>56.000000</td>\n",
       "      <td>4.710000</td>\n",
       "      <td>4.720000</td>\n",
       "      <td>2.910000</td>\n",
       "      <td>949.000000</td>\n",
       "    </tr>\n",
       "    <tr>\n",
       "      <th>50%</th>\n",
       "      <td>20227.000000</td>\n",
       "      <td>0.700000</td>\n",
       "      <td>61.800000</td>\n",
       "      <td>57.000000</td>\n",
       "      <td>5.700000</td>\n",
       "      <td>5.710000</td>\n",
       "      <td>3.530000</td>\n",
       "      <td>2404.000000</td>\n",
       "    </tr>\n",
       "    <tr>\n",
       "      <th>75%</th>\n",
       "      <td>30340.500000</td>\n",
       "      <td>1.040000</td>\n",
       "      <td>62.500000</td>\n",
       "      <td>59.000000</td>\n",
       "      <td>6.540000</td>\n",
       "      <td>6.540000</td>\n",
       "      <td>4.040000</td>\n",
       "      <td>5331.000000</td>\n",
       "    </tr>\n",
       "    <tr>\n",
       "      <th>max</th>\n",
       "      <td>40454.000000</td>\n",
       "      <td>5.010000</td>\n",
       "      <td>79.000000</td>\n",
       "      <td>95.000000</td>\n",
       "      <td>10.740000</td>\n",
       "      <td>31.800000</td>\n",
       "      <td>6.980000</td>\n",
       "      <td>18818.000000</td>\n",
       "    </tr>\n",
       "  </tbody>\n",
       "</table>\n",
       "</div>"
      ],
      "text/plain": [
       "                 id         carat         depth         table             x  \\\n",
       "count  40455.000000  40455.000000  40455.000000  40455.000000  40455.000000   \n",
       "mean   20227.000000      0.798406     61.744793     57.450157      5.733269   \n",
       "std    11678.496907      0.473424      1.430860      2.235814      1.120257   \n",
       "min        0.000000      0.200000     43.000000     43.000000      0.000000   \n",
       "25%    10113.500000      0.400000     61.000000     56.000000      4.710000   \n",
       "50%    20227.000000      0.700000     61.800000     57.000000      5.700000   \n",
       "75%    30340.500000      1.040000     62.500000     59.000000      6.540000   \n",
       "max    40454.000000      5.010000     79.000000     95.000000     10.740000   \n",
       "\n",
       "                  y             z         price  \n",
       "count  40455.000000  40455.000000  40455.000000  \n",
       "mean       5.736107      3.539249   3939.026968  \n",
       "std        1.119260      0.693619   3995.017122  \n",
       "min        0.000000      0.000000    327.000000  \n",
       "25%        4.720000      2.910000    949.000000  \n",
       "50%        5.710000      3.530000   2404.000000  \n",
       "75%        6.540000      4.040000   5331.000000  \n",
       "max       31.800000      6.980000  18818.000000  "
      ]
     },
     "execution_count": 16,
     "metadata": {},
     "output_type": "execute_result"
    }
   ],
   "source": [
    "train.describe()"
   ]
  },
  {
   "cell_type": "markdown",
   "id": "e22ea0d7",
   "metadata": {},
   "source": [
    "### Compruebo si algunas de las variables explicativas del precio están altamente relacionadas. "
   ]
  },
  {
   "cell_type": "code",
   "execution_count": 19,
   "id": "6473f234",
   "metadata": {},
   "outputs": [],
   "source": [
    "corr = train.corr()"
   ]
  },
  {
   "cell_type": "code",
   "execution_count": 20,
   "id": "45603cfb",
   "metadata": {},
   "outputs": [
    {
     "data": {
      "text/html": [
       "<div>\n",
       "<style scoped>\n",
       "    .dataframe tbody tr th:only-of-type {\n",
       "        vertical-align: middle;\n",
       "    }\n",
       "\n",
       "    .dataframe tbody tr th {\n",
       "        vertical-align: top;\n",
       "    }\n",
       "\n",
       "    .dataframe thead th {\n",
       "        text-align: right;\n",
       "    }\n",
       "</style>\n",
       "<table border=\"1\" class=\"dataframe\">\n",
       "  <thead>\n",
       "    <tr style=\"text-align: right;\">\n",
       "      <th></th>\n",
       "      <th>id</th>\n",
       "      <th>carat</th>\n",
       "      <th>depth</th>\n",
       "      <th>table</th>\n",
       "      <th>x</th>\n",
       "      <th>y</th>\n",
       "      <th>z</th>\n",
       "      <th>price</th>\n",
       "    </tr>\n",
       "  </thead>\n",
       "  <tbody>\n",
       "    <tr>\n",
       "      <th>id</th>\n",
       "      <td>1.000000</td>\n",
       "      <td>-0.003349</td>\n",
       "      <td>0.007690</td>\n",
       "      <td>-0.007495</td>\n",
       "      <td>-0.003985</td>\n",
       "      <td>-0.003997</td>\n",
       "      <td>-0.003010</td>\n",
       "      <td>-0.004065</td>\n",
       "    </tr>\n",
       "    <tr>\n",
       "      <th>carat</th>\n",
       "      <td>-0.003349</td>\n",
       "      <td>1.000000</td>\n",
       "      <td>0.025563</td>\n",
       "      <td>0.181437</td>\n",
       "      <td>0.976119</td>\n",
       "      <td>0.968747</td>\n",
       "      <td>0.969643</td>\n",
       "      <td>0.921128</td>\n",
       "    </tr>\n",
       "    <tr>\n",
       "      <th>depth</th>\n",
       "      <td>0.007690</td>\n",
       "      <td>0.025563</td>\n",
       "      <td>1.000000</td>\n",
       "      <td>-0.297741</td>\n",
       "      <td>-0.028409</td>\n",
       "      <td>-0.031153</td>\n",
       "      <td>0.093987</td>\n",
       "      <td>-0.015052</td>\n",
       "    </tr>\n",
       "    <tr>\n",
       "      <th>table</th>\n",
       "      <td>-0.007495</td>\n",
       "      <td>0.181437</td>\n",
       "      <td>-0.297741</td>\n",
       "      <td>1.000000</td>\n",
       "      <td>0.195592</td>\n",
       "      <td>0.187326</td>\n",
       "      <td>0.154194</td>\n",
       "      <td>0.127691</td>\n",
       "    </tr>\n",
       "    <tr>\n",
       "      <th>x</th>\n",
       "      <td>-0.003985</td>\n",
       "      <td>0.976119</td>\n",
       "      <td>-0.028409</td>\n",
       "      <td>0.195592</td>\n",
       "      <td>1.000000</td>\n",
       "      <td>0.991276</td>\n",
       "      <td>0.986062</td>\n",
       "      <td>0.884874</td>\n",
       "    </tr>\n",
       "    <tr>\n",
       "      <th>y</th>\n",
       "      <td>-0.003997</td>\n",
       "      <td>0.968747</td>\n",
       "      <td>-0.031153</td>\n",
       "      <td>0.187326</td>\n",
       "      <td>0.991276</td>\n",
       "      <td>1.000000</td>\n",
       "      <td>0.980160</td>\n",
       "      <td>0.880575</td>\n",
       "    </tr>\n",
       "    <tr>\n",
       "      <th>z</th>\n",
       "      <td>-0.003010</td>\n",
       "      <td>0.969643</td>\n",
       "      <td>0.093987</td>\n",
       "      <td>0.154194</td>\n",
       "      <td>0.986062</td>\n",
       "      <td>0.980160</td>\n",
       "      <td>1.000000</td>\n",
       "      <td>0.875011</td>\n",
       "    </tr>\n",
       "    <tr>\n",
       "      <th>price</th>\n",
       "      <td>-0.004065</td>\n",
       "      <td>0.921128</td>\n",
       "      <td>-0.015052</td>\n",
       "      <td>0.127691</td>\n",
       "      <td>0.884874</td>\n",
       "      <td>0.880575</td>\n",
       "      <td>0.875011</td>\n",
       "      <td>1.000000</td>\n",
       "    </tr>\n",
       "  </tbody>\n",
       "</table>\n",
       "</div>"
      ],
      "text/plain": [
       "             id     carat     depth     table         x         y         z  \\\n",
       "id     1.000000 -0.003349  0.007690 -0.007495 -0.003985 -0.003997 -0.003010   \n",
       "carat -0.003349  1.000000  0.025563  0.181437  0.976119  0.968747  0.969643   \n",
       "depth  0.007690  0.025563  1.000000 -0.297741 -0.028409 -0.031153  0.093987   \n",
       "table -0.007495  0.181437 -0.297741  1.000000  0.195592  0.187326  0.154194   \n",
       "x     -0.003985  0.976119 -0.028409  0.195592  1.000000  0.991276  0.986062   \n",
       "y     -0.003997  0.968747 -0.031153  0.187326  0.991276  1.000000  0.980160   \n",
       "z     -0.003010  0.969643  0.093987  0.154194  0.986062  0.980160  1.000000   \n",
       "price -0.004065  0.921128 -0.015052  0.127691  0.884874  0.880575  0.875011   \n",
       "\n",
       "          price  \n",
       "id    -0.004065  \n",
       "carat  0.921128  \n",
       "depth -0.015052  \n",
       "table  0.127691  \n",
       "x      0.884874  \n",
       "y      0.880575  \n",
       "z      0.875011  \n",
       "price  1.000000  "
      ]
     },
     "execution_count": 20,
     "metadata": {},
     "output_type": "execute_result"
    }
   ],
   "source": [
    "corr"
   ]
  },
  {
   "cell_type": "code",
   "execution_count": 33,
   "id": "4beccaa9",
   "metadata": {},
   "outputs": [
    {
     "data": {
      "image/png": "[encoded data removed]",
      "text/plain": [
       "<Figure size 864x432 with 2 Axes>"
      ]
     },
     "metadata": {},
     "output_type": "display_data"
    }
   ],
   "source": [
    "mascara = np.triu(np.ones_like(corr, dtype=bool))\n",
    "color_map = sns.diverging_palette(0, 10, as_cmap=True)\n",
    "sns.heatmap(corr,  \n",
    "            mask = mascara,\n",
    "            cmap=color_map,\n",
    "            square=True, \n",
    "            linewidth=0.5,\n",
    "            vmax=1,\n",
    "            cbar_kws={\"shrink\": .5},\n",
    "            annot=True);"
   ]
  },
  {
   "cell_type": "code",
   "execution_count": 23,
   "id": "e7536a33",
   "metadata": {},
   "outputs": [],
   "source": [
    "train.drop([\"x\"],axis=1, inplace=True)"
   ]
  },
  {
   "cell_type": "code",
   "execution_count": 24,
   "id": "8873daa4",
   "metadata": {},
   "outputs": [],
   "source": [
    "corr2 = train.corr()"
   ]
  },
  {
   "cell_type": "code",
   "execution_count": 34,
   "id": "82936b22",
   "metadata": {},
   "outputs": [
    {
     "data": {
      "image/png": "[encoded data removed]",
      "text/plain": [
       "<Figure size 864x432 with 2 Axes>"
      ]
     },
     "metadata": {},
     "output_type": "display_data"
    }
   ],
   "source": [
    "mascara = np.triu(np.ones_like(corr2, dtype=bool))\n",
    "color_map = sns.diverging_palette(0, 10, as_cmap=True)\n",
    "sns.heatmap(corr2,  \n",
    "            mask = mascara,\n",
    "            cmap=color_map,\n",
    "            square=True, \n",
    "            linewidth=0.5,\n",
    "            vmax=1,\n",
    "            cbar_kws={\"shrink\": .5},\n",
    "            annot=True);"
   ]
  },
  {
   "cell_type": "code",
   "execution_count": 26,
   "id": "6ef7c660",
   "metadata": {},
   "outputs": [],
   "source": [
    "train.drop([\"y\"],axis=1, inplace=True)"
   ]
  },
  {
   "cell_type": "code",
   "execution_count": 27,
   "id": "591098e7",
   "metadata": {},
   "outputs": [],
   "source": [
    "corr3=train.corr()"
   ]
  },
  {
   "cell_type": "code",
   "execution_count": 35,
   "id": "8ef5497a",
   "metadata": {},
   "outputs": [
    {
     "data": {
      "image/png": "[encoded data removed]",
      "text/plain": [
       "<Figure size 864x432 with 2 Axes>"
      ]
     },
     "metadata": {},
     "output_type": "display_data"
    }
   ],
   "source": [
    "mascara = np.triu(np.ones_like(corr3, dtype=bool))\n",
    "color_map = sns.diverging_palette(0, 10, as_cmap=True)\n",
    "sns.heatmap(corr3,  \n",
    "            mask = mascara,\n",
    "            cmap=color_map,\n",
    "            square=True, \n",
    "            linewidth=0.5,\n",
    "            vmax=1,\n",
    "            cbar_kws={\"shrink\": .5},\n",
    "            annot=True);"
   ]
  },
  {
   "cell_type": "code",
   "execution_count": 29,
   "id": "e2682c2a",
   "metadata": {},
   "outputs": [],
   "source": [
    "train.drop([\"z\"],axis=1, inplace=True)"
   ]
  },
  {
   "cell_type": "code",
   "execution_count": 30,
   "id": "860ebe3b",
   "metadata": {},
   "outputs": [],
   "source": [
    "corr4=train.corr()"
   ]
  },
  {
   "cell_type": "code",
   "execution_count": 36,
   "id": "62b67718",
   "metadata": {},
   "outputs": [
    {
     "data": {
      "image/png": "[encoded data removed]",
      "text/plain": [
       "<Figure size 864x432 with 2 Axes>"
      ]
     },
     "metadata": {},
     "output_type": "display_data"
    }
   ],
   "source": [
    "mascara = np.triu(np.ones_like(corr4, dtype=bool))\n",
    "color_map = sns.diverging_palette(0, 10, as_cmap=True)\n",
    "sns.heatmap(corr4,  \n",
    "            mask = mascara,\n",
    "            cmap=color_map,\n",
    "            square=True, \n",
    "            linewidth=0.5,\n",
    "            vmax=1,\n",
    "            cbar_kws={\"shrink\": .5},\n",
    "            annot=True);"
   ]
  },
  {
   "cell_type": "code",
   "execution_count": 37,
   "id": "658f630f",
   "metadata": {},
   "outputs": [
    {
     "data": {
      "text/html": [
       "<div>\n",
       "<style scoped>\n",
       "    .dataframe tbody tr th:only-of-type {\n",
       "        vertical-align: middle;\n",
       "    }\n",
       "\n",
       "    .dataframe tbody tr th {\n",
       "        vertical-align: top;\n",
       "    }\n",
       "\n",
       "    .dataframe thead th {\n",
       "        text-align: right;\n",
       "    }\n",
       "</style>\n",
       "<table border=\"1\" class=\"dataframe\">\n",
       "  <thead>\n",
       "    <tr style=\"text-align: right;\">\n",
       "      <th></th>\n",
       "      <th>id</th>\n",
       "      <th>carat</th>\n",
       "      <th>cut</th>\n",
       "      <th>color</th>\n",
       "      <th>clarity</th>\n",
       "      <th>depth</th>\n",
       "      <th>table</th>\n",
       "      <th>price</th>\n",
       "    </tr>\n",
       "  </thead>\n",
       "  <tbody>\n",
       "    <tr>\n",
       "      <th>0</th>\n",
       "      <td>0</td>\n",
       "      <td>1.14</td>\n",
       "      <td>Ideal</td>\n",
       "      <td>G</td>\n",
       "      <td>VVS2</td>\n",
       "      <td>61.0</td>\n",
       "      <td>56.0</td>\n",
       "      <td>9013</td>\n",
       "    </tr>\n",
       "    <tr>\n",
       "      <th>1</th>\n",
       "      <td>1</td>\n",
       "      <td>0.76</td>\n",
       "      <td>Ideal</td>\n",
       "      <td>H</td>\n",
       "      <td>VS2</td>\n",
       "      <td>62.7</td>\n",
       "      <td>57.0</td>\n",
       "      <td>2692</td>\n",
       "    </tr>\n",
       "    <tr>\n",
       "      <th>2</th>\n",
       "      <td>2</td>\n",
       "      <td>0.84</td>\n",
       "      <td>Ideal</td>\n",
       "      <td>G</td>\n",
       "      <td>VS1</td>\n",
       "      <td>61.4</td>\n",
       "      <td>56.0</td>\n",
       "      <td>4372</td>\n",
       "    </tr>\n",
       "    <tr>\n",
       "      <th>3</th>\n",
       "      <td>3</td>\n",
       "      <td>1.55</td>\n",
       "      <td>Ideal</td>\n",
       "      <td>H</td>\n",
       "      <td>VS1</td>\n",
       "      <td>62.0</td>\n",
       "      <td>57.0</td>\n",
       "      <td>13665</td>\n",
       "    </tr>\n",
       "    <tr>\n",
       "      <th>4</th>\n",
       "      <td>4</td>\n",
       "      <td>0.30</td>\n",
       "      <td>Ideal</td>\n",
       "      <td>G</td>\n",
       "      <td>SI2</td>\n",
       "      <td>61.9</td>\n",
       "      <td>57.0</td>\n",
       "      <td>422</td>\n",
       "    </tr>\n",
       "  </tbody>\n",
       "</table>\n",
       "</div>"
      ],
      "text/plain": [
       "   id  carat    cut color clarity  depth  table  price\n",
       "0   0   1.14  Ideal     G    VVS2   61.0   56.0   9013\n",
       "1   1   0.76  Ideal     H     VS2   62.7   57.0   2692\n",
       "2   2   0.84  Ideal     G     VS1   61.4   56.0   4372\n",
       "3   3   1.55  Ideal     H     VS1   62.0   57.0  13665\n",
       "4   4   0.30  Ideal     G     SI2   61.9   57.0    422"
      ]
     },
     "execution_count": 37,
     "metadata": {},
     "output_type": "execute_result"
    }
   ],
   "source": [
    "train.head()"
   ]
  },
  {
   "cell_type": "markdown",
   "id": "76467622",
   "metadata": {},
   "source": [
    "### Exploramos las columnas categóricas y las convertimos a numéricas:"
   ]
  },
  {
   "cell_type": "code",
   "execution_count": 38,
   "id": "62e33b1b",
   "metadata": {},
   "outputs": [
    {
     "data": {
      "text/plain": [
       "array(['Ideal', 'Fair', 'Very Good', 'Premium', 'Good'], dtype=object)"
      ]
     },
     "execution_count": 38,
     "metadata": {},
     "output_type": "execute_result"
    }
   ],
   "source": [
    "train.cut.unique()"
   ]
  },
  {
   "cell_type": "code",
   "execution_count": 55,
   "id": "907da861",
   "metadata": {},
   "outputs": [],
   "source": [
    "dic_para_cut = {\"Fair\": 1,\n",
    "                \"Good\": 2,\n",
    "                \"Very Good\": 3,\n",
    "                \"Ideal\":4,\n",
    "                \"Premium\":5}         "
   ]
  },
  {
   "cell_type": "code",
   "execution_count": 51,
   "id": "5915792c",
   "metadata": {},
   "outputs": [
    {
     "data": {
      "text/plain": [
       "6    D\n",
       "4    E\n",
       "2    F\n",
       "0    G\n",
       "1    H\n",
       "5    I\n",
       "3    J\n",
       "dtype: object"
      ]
     },
     "execution_count": 51,
     "metadata": {},
     "output_type": "execute_result"
    }
   ],
   "source": [
    "pd.Series(train.color.unique()).sort_values()"
   ]
  },
  {
   "cell_type": "code",
   "execution_count": 56,
   "id": "21966bbb",
   "metadata": {},
   "outputs": [],
   "source": [
    "dic_para_color ={\"J\":1,\n",
    "                \"I\":2,\n",
    "                \"H\":3,\n",
    "                \"G\":4,\n",
    "                \"F\":5,\n",
    "                \"E\":6,\n",
    "                \"D\":7} "
   ]
  },
  {
   "cell_type": "code",
   "execution_count": 54,
   "id": "55d58802",
   "metadata": {},
   "outputs": [
    {
     "data": {
      "text/plain": [
       "7      I1\n",
       "6      IF\n",
       "4     SI1\n",
       "3     SI2\n",
       "2     VS1\n",
       "1     VS2\n",
       "5    VVS1\n",
       "0    VVS2\n",
       "dtype: object"
      ]
     },
     "execution_count": 54,
     "metadata": {},
     "output_type": "execute_result"
    }
   ],
   "source": [
    "pd.Series(train.clarity.unique()).sort_values()"
   ]
  },
  {
   "cell_type": "code",
   "execution_count": 57,
   "id": "b98bdc6d",
   "metadata": {},
   "outputs": [],
   "source": [
    "dic_para_clarity ={\"IF\":1,\n",
    "                \"VVS1\":2,\n",
    "                \"VVS2\":3,\n",
    "                \"VS1\":4,\n",
    "                \"VS2\":5,\n",
    "                \"SI1\":6,\n",
    "                \"SI2\":7,\n",
    "                \"I1\":8} "
   ]
  },
  {
   "cell_type": "code",
   "execution_count": 67,
   "id": "076a231e",
   "metadata": {},
   "outputs": [],
   "source": [
    "train[\"cut_num\"] = train[\"cut\"].map(dic_para_cut)"
   ]
  },
  {
   "cell_type": "code",
   "execution_count": 69,
   "id": "200e7bdd",
   "metadata": {},
   "outputs": [],
   "source": [
    "train[\"color_num\"] = train[\"color\"].map(dic_para_color)"
   ]
  },
  {
   "cell_type": "code",
   "execution_count": 70,
   "id": "286848dd",
   "metadata": {},
   "outputs": [],
   "source": [
    "train[\"clarity_num\"] = train[\"clarity\"].map(dic_para_clarity)"
   ]
  },
  {
   "cell_type": "code",
   "execution_count": 75,
   "id": "8010503e",
   "metadata": {},
   "outputs": [],
   "source": [
    "borrar=[\"cut\",\"color\",\"clarity\"]"
   ]
  },
  {
   "cell_type": "code",
   "execution_count": 79,
   "id": "ba823dbf",
   "metadata": {},
   "outputs": [],
   "source": [
    "train.drop(columns=borrar, inplace=True)"
   ]
  },
  {
   "cell_type": "code",
   "execution_count": 80,
   "id": "60e935fb",
   "metadata": {},
   "outputs": [
    {
     "data": {
      "text/html": [
       "<div>\n",
       "<style scoped>\n",
       "    .dataframe tbody tr th:only-of-type {\n",
       "        vertical-align: middle;\n",
       "    }\n",
       "\n",
       "    .dataframe tbody tr th {\n",
       "        vertical-align: top;\n",
       "    }\n",
       "\n",
       "    .dataframe thead th {\n",
       "        text-align: right;\n",
       "    }\n",
       "</style>\n",
       "<table border=\"1\" class=\"dataframe\">\n",
       "  <thead>\n",
       "    <tr style=\"text-align: right;\">\n",
       "      <th></th>\n",
       "      <th>id</th>\n",
       "      <th>carat</th>\n",
       "      <th>depth</th>\n",
       "      <th>table</th>\n",
       "      <th>price</th>\n",
       "      <th>cut_num</th>\n",
       "      <th>color_num</th>\n",
       "      <th>clarity_num</th>\n",
       "    </tr>\n",
       "  </thead>\n",
       "  <tbody>\n",
       "    <tr>\n",
       "      <th>0</th>\n",
       "      <td>0</td>\n",
       "      <td>1.14</td>\n",
       "      <td>61.0</td>\n",
       "      <td>56.0</td>\n",
       "      <td>9013</td>\n",
       "      <td>4</td>\n",
       "      <td>4</td>\n",
       "      <td>3</td>\n",
       "    </tr>\n",
       "    <tr>\n",
       "      <th>1</th>\n",
       "      <td>1</td>\n",
       "      <td>0.76</td>\n",
       "      <td>62.7</td>\n",
       "      <td>57.0</td>\n",
       "      <td>2692</td>\n",
       "      <td>4</td>\n",
       "      <td>3</td>\n",
       "      <td>5</td>\n",
       "    </tr>\n",
       "    <tr>\n",
       "      <th>2</th>\n",
       "      <td>2</td>\n",
       "      <td>0.84</td>\n",
       "      <td>61.4</td>\n",
       "      <td>56.0</td>\n",
       "      <td>4372</td>\n",
       "      <td>4</td>\n",
       "      <td>4</td>\n",
       "      <td>4</td>\n",
       "    </tr>\n",
       "    <tr>\n",
       "      <th>3</th>\n",
       "      <td>3</td>\n",
       "      <td>1.55</td>\n",
       "      <td>62.0</td>\n",
       "      <td>57.0</td>\n",
       "      <td>13665</td>\n",
       "      <td>4</td>\n",
       "      <td>3</td>\n",
       "      <td>4</td>\n",
       "    </tr>\n",
       "    <tr>\n",
       "      <th>4</th>\n",
       "      <td>4</td>\n",
       "      <td>0.30</td>\n",
       "      <td>61.9</td>\n",
       "      <td>57.0</td>\n",
       "      <td>422</td>\n",
       "      <td>4</td>\n",
       "      <td>4</td>\n",
       "      <td>7</td>\n",
       "    </tr>\n",
       "  </tbody>\n",
       "</table>\n",
       "</div>"
      ],
      "text/plain": [
       "   id  carat  depth  table  price  cut_num  color_num  clarity_num\n",
       "0   0   1.14   61.0   56.0   9013        4          4            3\n",
       "1   1   0.76   62.7   57.0   2692        4          3            5\n",
       "2   2   0.84   61.4   56.0   4372        4          4            4\n",
       "3   3   1.55   62.0   57.0  13665        4          3            4\n",
       "4   4   0.30   61.9   57.0    422        4          4            7"
      ]
     },
     "execution_count": 80,
     "metadata": {},
     "output_type": "execute_result"
    }
   ],
   "source": [
    "train.head()"
   ]
  },
  {
   "cell_type": "code",
   "execution_count": 82,
   "id": "f8932cb3",
   "metadata": {},
   "outputs": [],
   "source": [
    "train.to_csv(\"../data/train2.csv\")"
   ]
  }
 ],
 "metadata": {
  "kernelspec": {
   "display_name": "ironhack",
   "language": "python",
   "name": "ironhack"
  },
  "language_info": {
   "codemirror_mode": {
    "name": "ipython",
    "version": 3
   },
   "file_extension": ".py",
   "mimetype": "text/x-python",
   "name": "python",
   "nbconvert_exporter": "python",
   "pygments_lexer": "ipython3",
   "version": "3.8.5"
  }
 },
 "nbformat": 4,
 "nbformat_minor": 5
}
