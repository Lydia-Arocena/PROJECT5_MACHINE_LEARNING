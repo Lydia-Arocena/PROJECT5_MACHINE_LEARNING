{
 "cells": [
  {
   "cell_type": "code",
   "execution_count": 61,
   "id": "a19ffcc3",
   "metadata": {},
   "outputs": [],
   "source": [
    "import pandas as pd\n",
    "import numpy as np\n",
    "from sklearn import metrics\n",
    "\n",
    "from sklearn.linear_model import Ridge, Lasso\n",
    "from sklearn.linear_model import SGDRegressor\n",
    "from sklearn.neighbors import KNeighborsRegressor\n",
    "from sklearn.ensemble import GradientBoostingRegressor\n",
    "from sklearn.linear_model import ElasticNet\n",
    "from sklearn.svm import LinearSVR\n",
    "from sklearn.linear_model import LinearRegression\n",
    "from sklearn.ensemble import RandomForestRegressor\n",
    "from sklearn.tree import DecisionTreeRegressor\n",
    "\n",
    "from sklearn.model_selection import GridSearchCV\n",
    "\n",
    "import warnings\n",
    "warnings.filterwarnings(\"ignore\")\n",
    "\n",
    "from sklearn.metrics import fbeta_score, make_scorer\n",
    "from sklearn.metrics import mean_squared_error\n",
    "from sklearn.model_selection import cross_validate\n",
    "from sklearn.metrics import mean_absolute_error"
   ]
  },
  {
   "cell_type": "markdown",
   "id": "4f8b59e3",
   "metadata": {},
   "source": [
    "### Defino X,y (TRAIN):"
   ]
  },
  {
   "cell_type": "code",
   "execution_count": 2,
   "id": "2740f2e0",
   "metadata": {},
   "outputs": [],
   "source": [
    "train2=pd.read_csv(\"../data/train2.csv\")"
   ]
  },
  {
   "cell_type": "code",
   "execution_count": 3,
   "id": "065abc54",
   "metadata": {},
   "outputs": [
    {
     "data": {
      "text/html": [
       "<div>\n",
       "<style scoped>\n",
       "    .dataframe tbody tr th:only-of-type {\n",
       "        vertical-align: middle;\n",
       "    }\n",
       "\n",
       "    .dataframe tbody tr th {\n",
       "        vertical-align: top;\n",
       "    }\n",
       "\n",
       "    .dataframe thead th {\n",
       "        text-align: right;\n",
       "    }\n",
       "</style>\n",
       "<table border=\"1\" class=\"dataframe\">\n",
       "  <thead>\n",
       "    <tr style=\"text-align: right;\">\n",
       "      <th></th>\n",
       "      <th>Unnamed: 0</th>\n",
       "      <th>id</th>\n",
       "      <th>carat</th>\n",
       "      <th>depth</th>\n",
       "      <th>table</th>\n",
       "      <th>price</th>\n",
       "      <th>cut_num</th>\n",
       "      <th>color_num</th>\n",
       "      <th>clarity_num</th>\n",
       "    </tr>\n",
       "  </thead>\n",
       "  <tbody>\n",
       "    <tr>\n",
       "      <th>37171</th>\n",
       "      <td>37171</td>\n",
       "      <td>37171</td>\n",
       "      <td>0.7</td>\n",
       "      <td>62.2</td>\n",
       "      <td>57.0</td>\n",
       "      <td>4458</td>\n",
       "      <td>4</td>\n",
       "      <td>5</td>\n",
       "      <td>2</td>\n",
       "    </tr>\n",
       "  </tbody>\n",
       "</table>\n",
       "</div>"
      ],
      "text/plain": [
       "       Unnamed: 0     id  carat  depth  table  price  cut_num  color_num  \\\n",
       "37171       37171  37171    0.7   62.2   57.0   4458        4          5   \n",
       "\n",
       "       clarity_num  \n",
       "37171            2  "
      ]
     },
     "execution_count": 3,
     "metadata": {},
     "output_type": "execute_result"
    }
   ],
   "source": [
    "train2.sample()"
   ]
  },
  {
   "cell_type": "code",
   "execution_count": 4,
   "id": "312c7aec",
   "metadata": {},
   "outputs": [],
   "source": [
    "X=train2.drop(columns=[\"id\",\"price\",\"Unnamed: 0\"])"
   ]
  },
  {
   "cell_type": "code",
   "execution_count": 5,
   "id": "83feae90",
   "metadata": {},
   "outputs": [],
   "source": [
    "y=train2.price"
   ]
  },
  {
   "cell_type": "markdown",
   "id": "735ac373",
   "metadata": {},
   "source": [
    "### Cargo X (TEST):"
   ]
  },
  {
   "cell_type": "code",
   "execution_count": 6,
   "id": "2a2b5c7c",
   "metadata": {},
   "outputs": [],
   "source": [
    "test2=pd.read_csv(\"../data/test2.csv\")"
   ]
  },
  {
   "cell_type": "code",
   "execution_count": 7,
   "id": "55038f2d",
   "metadata": {},
   "outputs": [
    {
     "data": {
      "text/html": [
       "<div>\n",
       "<style scoped>\n",
       "    .dataframe tbody tr th:only-of-type {\n",
       "        vertical-align: middle;\n",
       "    }\n",
       "\n",
       "    .dataframe tbody tr th {\n",
       "        vertical-align: top;\n",
       "    }\n",
       "\n",
       "    .dataframe thead th {\n",
       "        text-align: right;\n",
       "    }\n",
       "</style>\n",
       "<table border=\"1\" class=\"dataframe\">\n",
       "  <thead>\n",
       "    <tr style=\"text-align: right;\">\n",
       "      <th></th>\n",
       "      <th>Unnamed: 0</th>\n",
       "      <th>id</th>\n",
       "      <th>carat</th>\n",
       "      <th>depth</th>\n",
       "      <th>table</th>\n",
       "      <th>cut_num</th>\n",
       "      <th>color_num</th>\n",
       "      <th>clarity_num</th>\n",
       "    </tr>\n",
       "  </thead>\n",
       "  <tbody>\n",
       "    <tr>\n",
       "      <th>13182</th>\n",
       "      <td>13182</td>\n",
       "      <td>13182</td>\n",
       "      <td>1.11</td>\n",
       "      <td>61.7</td>\n",
       "      <td>58.0</td>\n",
       "      <td>5</td>\n",
       "      <td>3</td>\n",
       "      <td>5</td>\n",
       "    </tr>\n",
       "  </tbody>\n",
       "</table>\n",
       "</div>"
      ],
      "text/plain": [
       "       Unnamed: 0     id  carat  depth  table  cut_num  color_num  clarity_num\n",
       "13182       13182  13182   1.11   61.7   58.0        5          3            5"
      ]
     },
     "execution_count": 7,
     "metadata": {},
     "output_type": "execute_result"
    }
   ],
   "source": [
    "test2.sample()"
   ]
  },
  {
   "cell_type": "code",
   "execution_count": 8,
   "id": "55c80d7c",
   "metadata": {},
   "outputs": [],
   "source": [
    "test_=test2.drop(columns=[\"id\",\"Unnamed: 0\"])"
   ]
  },
  {
   "cell_type": "code",
   "execution_count": 9,
   "id": "0dc987ac",
   "metadata": {},
   "outputs": [
    {
     "data": {
      "text/html": [
       "<div>\n",
       "<style scoped>\n",
       "    .dataframe tbody tr th:only-of-type {\n",
       "        vertical-align: middle;\n",
       "    }\n",
       "\n",
       "    .dataframe tbody tr th {\n",
       "        vertical-align: top;\n",
       "    }\n",
       "\n",
       "    .dataframe thead th {\n",
       "        text-align: right;\n",
       "    }\n",
       "</style>\n",
       "<table border=\"1\" class=\"dataframe\">\n",
       "  <thead>\n",
       "    <tr style=\"text-align: right;\">\n",
       "      <th></th>\n",
       "      <th>carat</th>\n",
       "      <th>depth</th>\n",
       "      <th>table</th>\n",
       "      <th>cut_num</th>\n",
       "      <th>color_num</th>\n",
       "      <th>clarity_num</th>\n",
       "    </tr>\n",
       "  </thead>\n",
       "  <tbody>\n",
       "    <tr>\n",
       "      <th>5334</th>\n",
       "      <td>1.51</td>\n",
       "      <td>60.8</td>\n",
       "      <td>66.0</td>\n",
       "      <td>1</td>\n",
       "      <td>4</td>\n",
       "      <td>4</td>\n",
       "    </tr>\n",
       "  </tbody>\n",
       "</table>\n",
       "</div>"
      ],
      "text/plain": [
       "      carat  depth  table  cut_num  color_num  clarity_num\n",
       "5334   1.51   60.8   66.0        1          4            4"
      ]
     },
     "execution_count": 9,
     "metadata": {},
     "output_type": "execute_result"
    }
   ],
   "source": [
    "test_.sample()"
   ]
  },
  {
   "cell_type": "markdown",
   "id": "2cdea211",
   "metadata": {},
   "source": [
    "### Train, test, split:"
   ]
  },
  {
   "cell_type": "code",
   "execution_count": 10,
   "id": "fc671043",
   "metadata": {},
   "outputs": [],
   "source": [
    "from sklearn.model_selection import train_test_split"
   ]
  },
  {
   "cell_type": "code",
   "execution_count": 11,
   "id": "98bbc555",
   "metadata": {},
   "outputs": [],
   "source": [
    "X_train, X_test, y_train, y_test = train_test_split(X, y, test_size=0.2)"
   ]
  },
  {
   "cell_type": "code",
   "execution_count": 12,
   "id": "04d14597",
   "metadata": {},
   "outputs": [
    {
     "data": {
      "text/plain": [
       "(32364, 6)"
      ]
     },
     "execution_count": 12,
     "metadata": {},
     "output_type": "execute_result"
    }
   ],
   "source": [
    "X_train.shape"
   ]
  },
  {
   "cell_type": "code",
   "execution_count": 13,
   "id": "384de12f",
   "metadata": {},
   "outputs": [
    {
     "data": {
      "text/plain": [
       "(8091, 6)"
      ]
     },
     "execution_count": 13,
     "metadata": {},
     "output_type": "execute_result"
    }
   ],
   "source": [
    "X_test.shape"
   ]
  },
  {
   "cell_type": "code",
   "execution_count": 14,
   "id": "516c2fc0",
   "metadata": {},
   "outputs": [
    {
     "data": {
      "text/plain": [
       "(32364,)"
      ]
     },
     "execution_count": 14,
     "metadata": {},
     "output_type": "execute_result"
    }
   ],
   "source": [
    "y_train.shape"
   ]
  },
  {
   "cell_type": "code",
   "execution_count": 15,
   "id": "96ed3cde",
   "metadata": {},
   "outputs": [
    {
     "data": {
      "text/plain": [
       "(8091,)"
      ]
     },
     "execution_count": 15,
     "metadata": {},
     "output_type": "execute_result"
    }
   ],
   "source": [
    "y_test.shape"
   ]
  },
  {
   "cell_type": "markdown",
   "id": "1006da7e",
   "metadata": {},
   "source": [
    "### Modelos de Regresión (variables cuantitativas):"
   ]
  },
  {
   "cell_type": "code",
   "execution_count": 16,
   "id": "a97d9582",
   "metadata": {},
   "outputs": [],
   "source": [
    "models={'lin':LinearRegression(),\n",
    "    'ridge': Ridge(),\n",
    "    'lasso': Lasso(),\n",
    "    'sgd': SGDRegressor(),\n",
    "    'knn': KNeighborsRegressor(),\n",
    "    'grad': GradientBoostingRegressor(),\n",
    "    'elas': ElasticNet(),\n",
    "    'svr' :LinearSVR(),\n",
    "    'tree': DecisionTreeRegressor(),\n",
    "    'random': RandomForestRegressor()\n",
    "        }"
   ]
  },
  {
   "cell_type": "code",
   "execution_count": 17,
   "id": "524089f8",
   "metadata": {},
   "outputs": [
    {
     "name": "stdout",
     "output_type": "stream",
     "text": [
      "ENTRENANDO:  lin\n",
      "ENTRENANDO:  ridge\n",
      "ENTRENANDO:  lasso\n",
      "ENTRENANDO:  sgd\n",
      "ENTRENANDO:  knn\n",
      "ENTRENANDO:  grad\n",
      "ENTRENANDO:  elas\n",
      "ENTRENANDO:  svr\n",
      "ENTRENANDO:  tree\n",
      "ENTRENANDO:  random\n"
     ]
    }
   ],
   "source": [
    "for name, model in models.items():\n",
    "    print(\"ENTRENANDO: \", name)\n",
    "    model.fit(X_train, y_train)"
   ]
  },
  {
   "cell_type": "code",
   "execution_count": 18,
   "id": "a389aa6b",
   "metadata": {},
   "outputs": [
    {
     "name": "stdout",
     "output_type": "stream",
     "text": [
      "------lin------\n",
      "RMSE -  1212.8179828577904\n",
      "------ridge------\n",
      "RMSE -  1212.8138053307223\n",
      "------lasso------\n",
      "RMSE -  1212.790532377083\n",
      "------sgd------\n",
      "RMSE -  90339331.09047014\n",
      "------knn------\n",
      "RMSE -  1870.2794940134886\n",
      "------grad------\n",
      "RMSE -  623.495259563058\n",
      "------elas------\n",
      "RMSE -  2932.7134067910974\n",
      "------svr------\n",
      "RMSE -  1868.0627781424344\n",
      "------tree------\n",
      "RMSE -  736.9784922311752\n",
      "------random------\n",
      "RMSE -  540.0838678111652\n"
     ]
    }
   ],
   "source": [
    "for name, model in models.items():\n",
    "    y_pred = model.predict(X_test)\n",
    "    print(f\"------{name}------\")\n",
    "    print('RMSE - ', np.sqrt(metrics.mean_squared_error(y_test, y_pred)))"
   ]
  },
  {
   "cell_type": "markdown",
   "id": "dd14ea90",
   "metadata": {},
   "source": [
    "### Me quedo solo con los mejores modelos, es decir, con aquellos cuyo RMSE sea menor  (grad, tree, random) y los entreno de nuevo y predigo con todo \"train\"."
   ]
  },
  {
   "cell_type": "code",
   "execution_count": 19,
   "id": "99de296f",
   "metadata": {},
   "outputs": [],
   "source": [
    "best_models={\n",
    "    'grad': GradientBoostingRegressor(),\n",
    "    'tree': DecisionTreeRegressor(),\n",
    "    'random': RandomForestRegressor()\n",
    "        }"
   ]
  },
  {
   "cell_type": "code",
   "execution_count": 20,
   "id": "17f8be2e",
   "metadata": {},
   "outputs": [
    {
     "name": "stdout",
     "output_type": "stream",
     "text": [
      "ENTRENANDO:  grad\n",
      "ENTRENANDO:  tree\n",
      "ENTRENANDO:  random\n"
     ]
    }
   ],
   "source": [
    "for name, model in best_models.items():\n",
    "    print(\"ENTRENANDO: \", name)\n",
    "    model.fit(X, y)"
   ]
  },
  {
   "cell_type": "code",
   "execution_count": 21,
   "id": "7cb5406e",
   "metadata": {},
   "outputs": [
    {
     "name": "stdout",
     "output_type": "stream",
     "text": [
      "------grad------\n",
      "RMSE -  610.7211689205226\n",
      "------tree------\n",
      "RMSE -  55.99749897463047\n",
      "------random------\n",
      "RMSE -  209.18911832504435\n"
     ]
    }
   ],
   "source": [
    "for name, model in best_models.items():\n",
    "    y_pred_X = model.predict(X)\n",
    "    print(f\"------{name}------\")\n",
    "    print('RMSE - ', np.sqrt(metrics.mean_squared_error(y, y_pred_X)))"
   ]
  },
  {
   "cell_type": "markdown",
   "id": "a496896d",
   "metadata": {},
   "source": [
    "###  Ahora me quedo únicamente con el modelo \"tree\" y hago la predicción con \"test\":"
   ]
  },
  {
   "cell_type": "code",
   "execution_count": 45,
   "id": "8c81da70",
   "metadata": {},
   "outputs": [],
   "source": [
    "tree=best_models[\"tree\"]"
   ]
  },
  {
   "cell_type": "code",
   "execution_count": 46,
   "id": "da5a0596",
   "metadata": {},
   "outputs": [],
   "source": [
    "y_pred_test=tree.predict(test_)"
   ]
  },
  {
   "cell_type": "code",
   "execution_count": 47,
   "id": "072ea644",
   "metadata": {},
   "outputs": [],
   "source": [
    "test2[\"price\"]=y_pred_test"
   ]
  },
  {
   "cell_type": "code",
   "execution_count": 27,
   "id": "2b43a331",
   "metadata": {},
   "outputs": [],
   "source": [
    "submission1=test2.drop(columns=[\"Unnamed: 0\",\"carat\",\"depth\",\"table\",\"cut_num\",\"color_num\",\"clarity_num\"])"
   ]
  },
  {
   "cell_type": "code",
   "execution_count": 28,
   "id": "a808af45",
   "metadata": {},
   "outputs": [
    {
     "data": {
      "text/html": [
       "<div>\n",
       "<style scoped>\n",
       "    .dataframe tbody tr th:only-of-type {\n",
       "        vertical-align: middle;\n",
       "    }\n",
       "\n",
       "    .dataframe tbody tr th {\n",
       "        vertical-align: top;\n",
       "    }\n",
       "\n",
       "    .dataframe thead th {\n",
       "        text-align: right;\n",
       "    }\n",
       "</style>\n",
       "<table border=\"1\" class=\"dataframe\">\n",
       "  <thead>\n",
       "    <tr style=\"text-align: right;\">\n",
       "      <th></th>\n",
       "      <th>id</th>\n",
       "      <th>price</th>\n",
       "    </tr>\n",
       "  </thead>\n",
       "  <tbody>\n",
       "    <tr>\n",
       "      <th>1823</th>\n",
       "      <td>1823</td>\n",
       "      <td>1141.0</td>\n",
       "    </tr>\n",
       "  </tbody>\n",
       "</table>\n",
       "</div>"
      ],
      "text/plain": [
       "        id   price\n",
       "1823  1823  1141.0"
      ]
     },
     "execution_count": 28,
     "metadata": {},
     "output_type": "execute_result"
    }
   ],
   "source": [
    "submission1.sample()"
   ]
  },
  {
   "cell_type": "code",
   "execution_count": 29,
   "id": "67ef9c4e",
   "metadata": {},
   "outputs": [],
   "source": [
    "submission1.to_csv(\"../data/myfirstsubmissionf.csv\", index=False)"
   ]
  },
  {
   "cell_type": "markdown",
   "id": "dc30f2e4",
   "metadata": {},
   "source": [
    "### Intento mejorar mi resultado con los súper parámetros:"
   ]
  },
  {
   "cell_type": "code",
   "execution_count": 30,
   "id": "6140ff26",
   "metadata": {},
   "outputs": [],
   "source": [
    "paremeters_tree = {'ccp_alpha': [0.0, 0.1, 0.2],\n",
    "                   'criterion': [\"squared_error\", \"friedman_mse\", \"absolute_error\", \"poisson\"], \n",
    "                   'max_depth': [0,1,2,3,4,5,None], \n",
    "                   'max_features': [\"auto\", \"sqrt\", \"log2\", None],\n",
    "                   'max_leaf_nodes': [0,1,2,3,4,5,None], \n",
    "                   'min_impurity_decrease': [0.0, 0.1, 0.2],\n",
    "                   'min_samples_leaf': [1,2,3,4,5], \n",
    "                   'min_samples_split': [1,2,3,4,5],\n",
    "                   'min_weight_fraction_leaf': [0.0, 0.1, 0.2],\n",
    "                   'splitter': ['best', 'random']\n",
    "                  }"
   ]
  },
  {
   "cell_type": "code",
   "execution_count": 31,
   "id": "eb48f1dc",
   "metadata": {},
   "outputs": [],
   "source": [
    "paremeters_tree_red = {'ccp_alpha': [0.0, 0.1, 0.2],\n",
    "                        'criterion': [\"squared_error\", \"friedman_mse\", \"absolute_error\", \"poisson\"], \n",
    "                        'max_depth': [0,1,3,5,None], \n",
    "                  }"
   ]
  },
  {
   "cell_type": "code",
   "execution_count": 32,
   "id": "d57ed5a6",
   "metadata": {},
   "outputs": [],
   "source": [
    "tree=best_models[\"tree\"]"
   ]
  },
  {
   "cell_type": "code",
   "execution_count": 42,
   "id": "1ac033f0",
   "metadata": {},
   "outputs": [],
   "source": [
    "grid_tree = GridSearchCV(tree, paremeters_tree_red, verbose=1)"
   ]
  },
  {
   "cell_type": "code",
   "execution_count": 34,
   "id": "c72a79c9",
   "metadata": {},
   "outputs": [
    {
     "name": "stdout",
     "output_type": "stream",
     "text": [
      "Fitting 5 folds for each of 60 candidates, totalling 300 fits\n"
     ]
    },
    {
     "data": {
      "text/plain": [
       "GridSearchCV(estimator=DecisionTreeRegressor(),\n",
       "             param_grid={'ccp_alpha': [0.0, 0.1, 0.2],\n",
       "                         'criterion': ['squared_error', 'friedman_mse',\n",
       "                                       'absolute_error', 'poisson'],\n",
       "                         'max_depth': [0, 1, 3, 5, None]},\n",
       "             verbose=1)"
      ]
     },
     "execution_count": 34,
     "metadata": {},
     "output_type": "execute_result"
    }
   ],
   "source": [
    "grid_tree.fit(X_train,y_train) #Hago Cross Validation a la par que lo entreno con todas las combinaciones para luego obetener sus mejores parámetros."
   ]
  },
  {
   "cell_type": "code",
   "execution_count": 35,
   "id": "be08bd11",
   "metadata": {},
   "outputs": [
    {
     "data": {
      "text/plain": [
       "{'ccp_alpha': 0.2, 'criterion': 'absolute_error', 'max_depth': None}"
      ]
     },
     "execution_count": 35,
     "metadata": {},
     "output_type": "execute_result"
    }
   ],
   "source": [
    "grid_tree.best_params_ #obtengo los mejores parámetros de este modelo."
   ]
  },
  {
   "cell_type": "code",
   "execution_count": 36,
   "id": "35be1005",
   "metadata": {},
   "outputs": [],
   "source": [
    "best_tree=DecisionTreeRegressor(ccp_alpha= 0.2, criterion= 'absolute_error', max_depth= None, splitter='best')"
   ]
  },
  {
   "cell_type": "code",
   "execution_count": 37,
   "id": "4c4dad07",
   "metadata": {},
   "outputs": [
    {
     "data": {
      "text/plain": [
       "DecisionTreeRegressor(ccp_alpha=0.2, criterion='absolute_error')"
      ]
     },
     "execution_count": 37,
     "metadata": {},
     "output_type": "execute_result"
    }
   ],
   "source": [
    "best_tree.fit(X,y)"
   ]
  },
  {
   "cell_type": "code",
   "execution_count": 50,
   "id": "b14b1137",
   "metadata": {},
   "outputs": [],
   "source": [
    "y_pred_best=best_tree.predict(test_)"
   ]
  },
  {
   "cell_type": "code",
   "execution_count": 55,
   "id": "54e266f6",
   "metadata": {},
   "outputs": [],
   "source": [
    "test2[\"price\"]=y_pred_best"
   ]
  },
  {
   "cell_type": "code",
   "execution_count": 56,
   "id": "ae5d0961",
   "metadata": {},
   "outputs": [
    {
     "data": {
      "text/html": [
       "<div>\n",
       "<style scoped>\n",
       "    .dataframe tbody tr th:only-of-type {\n",
       "        vertical-align: middle;\n",
       "    }\n",
       "\n",
       "    .dataframe tbody tr th {\n",
       "        vertical-align: top;\n",
       "    }\n",
       "\n",
       "    .dataframe thead th {\n",
       "        text-align: right;\n",
       "    }\n",
       "</style>\n",
       "<table border=\"1\" class=\"dataframe\">\n",
       "  <thead>\n",
       "    <tr style=\"text-align: right;\">\n",
       "      <th></th>\n",
       "      <th>Unnamed: 0</th>\n",
       "      <th>id</th>\n",
       "      <th>carat</th>\n",
       "      <th>depth</th>\n",
       "      <th>table</th>\n",
       "      <th>cut_num</th>\n",
       "      <th>color_num</th>\n",
       "      <th>clarity_num</th>\n",
       "      <th>price</th>\n",
       "      <th>y_pred_best</th>\n",
       "    </tr>\n",
       "  </thead>\n",
       "  <tbody>\n",
       "    <tr>\n",
       "      <th>2809</th>\n",
       "      <td>2809</td>\n",
       "      <td>2809</td>\n",
       "      <td>0.91</td>\n",
       "      <td>64.0</td>\n",
       "      <td>61.0</td>\n",
       "      <td>2</td>\n",
       "      <td>6</td>\n",
       "      <td>6</td>\n",
       "      <td>4304.0</td>\n",
       "      <td>4304.0</td>\n",
       "    </tr>\n",
       "  </tbody>\n",
       "</table>\n",
       "</div>"
      ],
      "text/plain": [
       "      Unnamed: 0    id  carat  depth  table  cut_num  color_num  clarity_num  \\\n",
       "2809        2809  2809   0.91   64.0   61.0        2          6            6   \n",
       "\n",
       "       price  y_pred_best  \n",
       "2809  4304.0       4304.0  "
      ]
     },
     "execution_count": 56,
     "metadata": {},
     "output_type": "execute_result"
    }
   ],
   "source": [
    "test2.sample()"
   ]
  },
  {
   "cell_type": "code",
   "execution_count": 57,
   "id": "d2c2cbff",
   "metadata": {},
   "outputs": [],
   "source": [
    "submission2=test2.drop(columns=[\"Unnamed: 0\",\"carat\",\"depth\",\"table\",\"cut_num\",\"color_num\",\"clarity_num\",\"y_pred_best\"])"
   ]
  },
  {
   "cell_type": "code",
   "execution_count": 59,
   "id": "f4b26a4a",
   "metadata": {},
   "outputs": [
    {
     "data": {
      "text/html": [
       "<div>\n",
       "<style scoped>\n",
       "    .dataframe tbody tr th:only-of-type {\n",
       "        vertical-align: middle;\n",
       "    }\n",
       "\n",
       "    .dataframe tbody tr th {\n",
       "        vertical-align: top;\n",
       "    }\n",
       "\n",
       "    .dataframe thead th {\n",
       "        text-align: right;\n",
       "    }\n",
       "</style>\n",
       "<table border=\"1\" class=\"dataframe\">\n",
       "  <thead>\n",
       "    <tr style=\"text-align: right;\">\n",
       "      <th></th>\n",
       "      <th>id</th>\n",
       "      <th>price</th>\n",
       "    </tr>\n",
       "  </thead>\n",
       "  <tbody>\n",
       "    <tr>\n",
       "      <th>3890</th>\n",
       "      <td>3890</td>\n",
       "      <td>4544.0</td>\n",
       "    </tr>\n",
       "  </tbody>\n",
       "</table>\n",
       "</div>"
      ],
      "text/plain": [
       "        id   price\n",
       "3890  3890  4544.0"
      ]
     },
     "execution_count": 59,
     "metadata": {},
     "output_type": "execute_result"
    }
   ],
   "source": [
    "submission2.sample()"
   ]
  }
 ],
 "metadata": {
  "kernelspec": {
   "display_name": "ironhack",
   "language": "python",
   "name": "ironhack"
  },
  "language_info": {
   "codemirror_mode": {
    "name": "ipython",
    "version": 3
   },
   "file_extension": ".py",
   "mimetype": "text/x-python",
   "name": "python",
   "nbconvert_exporter": "python",
   "pygments_lexer": "ipython3",
   "version": "3.8.5"
  }
 },
 "nbformat": 4,
 "nbformat_minor": 5
}
